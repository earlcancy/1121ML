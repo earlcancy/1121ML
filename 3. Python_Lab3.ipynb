{
 "cells": [
  {
   "cell_type": "code",
   "execution_count": 1,
   "metadata": {},
   "outputs": [
    {
     "data": {
      "text/plain": [
       "Oval(Point(20.0, 150.0), Point(180.0, 199.0))"
      ]
     },
     "execution_count": 1,
     "metadata": {},
     "output_type": "execute_result"
    }
   ],
   "source": [
    "import graphics\n",
    "from graphics import *\n",
    "from graphics import GraphWin\n",
    "win=graphics.GraphWin()\n",
    "center = Point(100,100)\n",
    "circ = Circle(center, 30)\n",
    "circ.setFill('red')\n",
    "circ.draw(win)\n",
    "label=Text(center, \"Red Circle\")\n",
    "label.draw(win)\n",
    "rect = Rectangle(Point(30, 30), Point(180, 180))\n",
    "rect.draw(win)\n",
    "line = Line(Point(20,30), Point(180,165))\n",
    "line.draw(win)\n",
    "oval = Oval(Point(20, 150), Point(180,199))\n",
    "oval.draw(win)"
   ]
  },
  {
   "cell_type": "code",
   "execution_count": 2,
   "metadata": {},
   "outputs": [
    {
     "name": "stdout",
     "output_type": "stream",
     "text": [
      "This program plots the growth of a 10-year investment\n",
      "Enter the initial principal:2000\n",
      "Enter the annualized interest rate:0.1\n",
      "Press <Enter> to quit\n"
     ]
    }
   ],
   "source": [
    "from graphics import *\n",
    "def futval_graph():\n",
    "    print(\"This program plots the growth of a 10-year investment\")\n",
    "    principal = eval(input(\"Enter the initial principal:\"))\n",
    "    apr = eval(input(\"Enter the annualized interest rate:\"))\n",
    "    win = GraphWin(\"Investment Growth Chart\", 320, 240)\n",
    "    win.setBackground(\"white\")\n",
    "    Text(Point(20,230),' 0.0K').draw(win)\n",
    "    Text(Point(20,180),' 2.5K').draw(win)\n",
    "    Text(Point(20,130),' 5.0K').draw(win)\n",
    "    Text(Point(20,80),' 7.5K').draw(win)\n",
    "    Text(Point(20,30),'10.0K').draw(win)\n",
    "    height = principal * 0.02\n",
    "    bar = Rectangle(Point(40, 230), Point(65, 230-height))\n",
    "    bar.setFill(\"green\")\n",
    "    bar.setWidth(2)\n",
    "    bar.draw(win)\n",
    "    for year in range(1, 11):\n",
    "        principal = principal * (1+apr)\n",
    "        xll = year *25 +40\n",
    "        height = principal * 0.02\n",
    "        bar = Rectangle(Point(xll, 230), Point(xll+25, 230-height))\n",
    "        bar.setFill(\"green\")\n",
    "        bar.setWidth(2)\n",
    "        bar.draw(win)\n",
    "    input(\"Press <Enter> to quit\")\n",
    "    win.close()\n",
    "futval_graph()"
   ]
  },
  {
   "cell_type": "code",
   "execution_count": null,
   "metadata": {},
   "outputs": [
    {
     "name": "stdout",
     "output_type": "stream",
     "text": [
      "This program plots the growth of a 10-year investment\n",
      "Enter the initial principal:2000\n",
      "Enter the annualized interest rate:0.1\n"
     ]
    }
   ],
   "source": [
    "from graphics import *\n",
    "def futval_graph2():\n",
    "    print(\"This program plots the growth of a 10-year investment\")\n",
    "    principal = eval(input(\"Enter the initial principal:\"))\n",
    "    apr = eval(input(\"Enter the annualized interest rate:\"))\n",
    "    win = GraphWin(\"Investment Growth Chart\", 320, 240)\n",
    "    win.setBackground(\"white\")\n",
    "    win.setCoords(-1.75, -200, 11.5, 10400)\n",
    "    Text(Point(-1, 0),' 0.0K').draw(win)\n",
    "    Text(Point(-1, 2500),' 2.5K').draw(win)\n",
    "    Text(Point(-1, 5000),' 5.0K').draw(win)\n",
    "    Text(Point(-1, 7500),' 7.5K').draw(win)\n",
    "    Text(Point(-1, 10000),'10.0K').draw(win)\n",
    "    bar = Rectangle(Point(0, 0), Point(1, principal))\n",
    "    bar.setFill(\"green\")\n",
    "    bar.setWidth(2)\n",
    "    bar.draw(win)\n",
    "    for year in range(1, 11):\n",
    "        principal = principal * (1+apr)\n",
    "        xll = year *25 +40\n",
    "        height = principal * 0.02\n",
    "        bar = Rectangle(Point(year, 0), Point(year+1, principal))\n",
    "        bar.setFill(\"green\")\n",
    "        bar.setWidth(2)\n",
    "        bar.draw(win)\n",
    "    input(\"Press <Enter> to quit\")\n",
    "    win.close()\n",
    "futval_graph2()"
   ]
  },
  {
   "cell_type": "code",
   "execution_count": 6,
   "metadata": {},
   "outputs": [
    {
     "name": "stdout",
     "output_type": "stream",
     "text": [
      "You clicked at: 58.0 64.0\n",
      "You clicked at: 130.0 111.0\n",
      "You clicked at: 111.0 148.0\n",
      "You clicked at: 139.0 155.0\n",
      "You clicked at: 147.0 84.0\n"
     ]
    },
    {
     "ename": "GraphicsError",
     "evalue": "getMouse in closed window",
     "output_type": "error",
     "traceback": [
      "\u001b[1;31m---------------------------------------------------------------------------\u001b[0m",
      "\u001b[1;31mGraphicsError\u001b[0m                             Traceback (most recent call last)",
      "\u001b[1;32m<ipython-input-6-78c7641a3605>\u001b[0m in \u001b[0;36m<module>\u001b[1;34m\u001b[0m\n\u001b[0;32m      5\u001b[0m         \u001b[0mp\u001b[0m \u001b[1;33m=\u001b[0m \u001b[0mwin\u001b[0m\u001b[1;33m.\u001b[0m\u001b[0mgetMouse\u001b[0m\u001b[1;33m(\u001b[0m\u001b[1;33m)\u001b[0m\u001b[1;33m\u001b[0m\u001b[1;33m\u001b[0m\u001b[0m\n\u001b[0;32m      6\u001b[0m         \u001b[0mprint\u001b[0m\u001b[1;33m(\u001b[0m\u001b[1;34m\"You clicked at:\"\u001b[0m\u001b[1;33m,\u001b[0m \u001b[0mp\u001b[0m\u001b[1;33m.\u001b[0m\u001b[0mgetX\u001b[0m\u001b[1;33m(\u001b[0m\u001b[1;33m)\u001b[0m\u001b[1;33m,\u001b[0m \u001b[0mp\u001b[0m\u001b[1;33m.\u001b[0m\u001b[0mgetY\u001b[0m\u001b[1;33m(\u001b[0m\u001b[1;33m)\u001b[0m\u001b[1;33m)\u001b[0m\u001b[1;33m\u001b[0m\u001b[1;33m\u001b[0m\u001b[0m\n\u001b[1;32m----> 7\u001b[1;33m \u001b[0mclick\u001b[0m\u001b[1;33m(\u001b[0m\u001b[1;33m)\u001b[0m\u001b[1;33m\u001b[0m\u001b[1;33m\u001b[0m\u001b[0m\n\u001b[0m",
      "\u001b[1;32m<ipython-input-6-78c7641a3605>\u001b[0m in \u001b[0;36mclick\u001b[1;34m()\u001b[0m\n\u001b[0;32m      3\u001b[0m     \u001b[0mwin\u001b[0m \u001b[1;33m=\u001b[0m \u001b[0mGraphWin\u001b[0m\u001b[1;33m(\u001b[0m\u001b[1;34m\"Click Me!\"\u001b[0m\u001b[1;33m)\u001b[0m\u001b[1;33m\u001b[0m\u001b[1;33m\u001b[0m\u001b[0m\n\u001b[0;32m      4\u001b[0m     \u001b[1;32mfor\u001b[0m \u001b[0mi\u001b[0m \u001b[1;32min\u001b[0m \u001b[0mrange\u001b[0m\u001b[1;33m(\u001b[0m\u001b[1;36m10\u001b[0m\u001b[1;33m)\u001b[0m\u001b[1;33m:\u001b[0m\u001b[1;33m\u001b[0m\u001b[1;33m\u001b[0m\u001b[0m\n\u001b[1;32m----> 5\u001b[1;33m         \u001b[0mp\u001b[0m \u001b[1;33m=\u001b[0m \u001b[0mwin\u001b[0m\u001b[1;33m.\u001b[0m\u001b[0mgetMouse\u001b[0m\u001b[1;33m(\u001b[0m\u001b[1;33m)\u001b[0m\u001b[1;33m\u001b[0m\u001b[1;33m\u001b[0m\u001b[0m\n\u001b[0m\u001b[0;32m      6\u001b[0m         \u001b[0mprint\u001b[0m\u001b[1;33m(\u001b[0m\u001b[1;34m\"You clicked at:\"\u001b[0m\u001b[1;33m,\u001b[0m \u001b[0mp\u001b[0m\u001b[1;33m.\u001b[0m\u001b[0mgetX\u001b[0m\u001b[1;33m(\u001b[0m\u001b[1;33m)\u001b[0m\u001b[1;33m,\u001b[0m \u001b[0mp\u001b[0m\u001b[1;33m.\u001b[0m\u001b[0mgetY\u001b[0m\u001b[1;33m(\u001b[0m\u001b[1;33m)\u001b[0m\u001b[1;33m)\u001b[0m\u001b[1;33m\u001b[0m\u001b[1;33m\u001b[0m\u001b[0m\n\u001b[0;32m      7\u001b[0m \u001b[0mclick\u001b[0m\u001b[1;33m(\u001b[0m\u001b[1;33m)\u001b[0m\u001b[1;33m\u001b[0m\u001b[1;33m\u001b[0m\u001b[0m\n",
      "\u001b[1;32mD:\\100Day-ML-Marathon\\1081ML\\Practice\\graphics.py\u001b[0m in \u001b[0;36mgetMouse\u001b[1;34m(self)\u001b[0m\n\u001b[0;32m    314\u001b[0m         \u001b[1;32mwhile\u001b[0m \u001b[0mself\u001b[0m\u001b[1;33m.\u001b[0m\u001b[0mmouseX\u001b[0m \u001b[1;33m==\u001b[0m \u001b[1;32mNone\u001b[0m \u001b[1;32mor\u001b[0m \u001b[0mself\u001b[0m\u001b[1;33m.\u001b[0m\u001b[0mmouseY\u001b[0m \u001b[1;33m==\u001b[0m \u001b[1;32mNone\u001b[0m\u001b[1;33m:\u001b[0m\u001b[1;33m\u001b[0m\u001b[1;33m\u001b[0m\u001b[0m\n\u001b[0;32m    315\u001b[0m             \u001b[0mself\u001b[0m\u001b[1;33m.\u001b[0m\u001b[0mupdate\u001b[0m\u001b[1;33m(\u001b[0m\u001b[1;33m)\u001b[0m\u001b[1;33m\u001b[0m\u001b[1;33m\u001b[0m\u001b[0m\n\u001b[1;32m--> 316\u001b[1;33m             \u001b[1;32mif\u001b[0m \u001b[0mself\u001b[0m\u001b[1;33m.\u001b[0m\u001b[0misClosed\u001b[0m\u001b[1;33m(\u001b[0m\u001b[1;33m)\u001b[0m\u001b[1;33m:\u001b[0m \u001b[1;32mraise\u001b[0m \u001b[0mGraphicsError\u001b[0m\u001b[1;33m(\u001b[0m\u001b[1;34m\"getMouse in closed window\"\u001b[0m\u001b[1;33m)\u001b[0m\u001b[1;33m\u001b[0m\u001b[1;33m\u001b[0m\u001b[0m\n\u001b[0m\u001b[0;32m    317\u001b[0m             \u001b[0mtime\u001b[0m\u001b[1;33m.\u001b[0m\u001b[0msleep\u001b[0m\u001b[1;33m(\u001b[0m\u001b[1;36m.1\u001b[0m\u001b[1;33m)\u001b[0m \u001b[1;31m# give up thread\u001b[0m\u001b[1;33m\u001b[0m\u001b[1;33m\u001b[0m\u001b[0m\n\u001b[0;32m    318\u001b[0m         \u001b[0mx\u001b[0m\u001b[1;33m,\u001b[0m\u001b[0my\u001b[0m \u001b[1;33m=\u001b[0m \u001b[0mself\u001b[0m\u001b[1;33m.\u001b[0m\u001b[0mtoWorld\u001b[0m\u001b[1;33m(\u001b[0m\u001b[0mself\u001b[0m\u001b[1;33m.\u001b[0m\u001b[0mmouseX\u001b[0m\u001b[1;33m,\u001b[0m \u001b[0mself\u001b[0m\u001b[1;33m.\u001b[0m\u001b[0mmouseY\u001b[0m\u001b[1;33m)\u001b[0m\u001b[1;33m\u001b[0m\u001b[1;33m\u001b[0m\u001b[0m\n",
      "\u001b[1;31mGraphicsError\u001b[0m: getMouse in closed window"
     ]
    }
   ],
   "source": [
    "from graphics import *\n",
    "def click():\n",
    "    win = GraphWin(\"Click Me!\")\n",
    "    for i in range(10):\n",
    "        p = win.getMouse()\n",
    "        print(\"You clicked at:\", p.getX(), p.getY())\n",
    "click()"
   ]
  },
  {
   "cell_type": "code",
   "execution_count": 1,
   "metadata": {},
   "outputs": [],
   "source": [
    "from graphics import *\n",
    "def triangle():\n",
    "    win = GraphWin(\"Draw a Triangle\")\n",
    "    win.setCoords(0.0, 0.0, 10.0, 10.0)\n",
    "    message = Text(Point(5, 0.5),\"Click on three points\")\n",
    "    message.draw(win)\n",
    "    p1 = win.getMouse()\n",
    "    p1.draw(win)\n",
    "    p2 = win.getMouse()\n",
    "    p2.draw(win)\n",
    "    p3 = win.getMouse()\n",
    "    p3.draw(win)\n",
    "    triangle = Polygon(p1, p2, p3)\n",
    "    triangle.setFill(\"peachpuff\")\n",
    "    triangle.setOutline(\"cyan\")\n",
    "    triangle.draw(win)\n",
    "    message.setText(\"Click anywhere to quit.\")\n",
    "    win.getMouse()\n",
    "    win.close()\n",
    "triangle()"
   ]
  },
  {
   "cell_type": "code",
   "execution_count": 3,
   "metadata": {},
   "outputs": [
    {
     "ename": "GraphicsError",
     "evalue": "getMouse in closed window",
     "output_type": "error",
     "traceback": [
      "\u001b[1;31m---------------------------------------------------------------------------\u001b[0m",
      "\u001b[1;31mGraphicsError\u001b[0m                             Traceback (most recent call last)",
      "\u001b[1;32m<ipython-input-3-f67abeb40210>\u001b[0m in \u001b[0;36m<module>\u001b[1;34m\u001b[0m\n\u001b[0;32m     20\u001b[0m     \u001b[0mwin\u001b[0m\u001b[1;33m.\u001b[0m\u001b[0mgetMouse\u001b[0m\u001b[1;33m(\u001b[0m\u001b[1;33m)\u001b[0m\u001b[1;33m\u001b[0m\u001b[1;33m\u001b[0m\u001b[0m\n\u001b[0;32m     21\u001b[0m     \u001b[0mwin\u001b[0m\u001b[1;33m.\u001b[0m\u001b[0mclose\u001b[0m\u001b[1;33m(\u001b[0m\u001b[1;33m)\u001b[0m\u001b[1;33m\u001b[0m\u001b[1;33m\u001b[0m\u001b[0m\n\u001b[1;32m---> 22\u001b[1;33m \u001b[0mconvert_gui\u001b[0m\u001b[1;33m(\u001b[0m\u001b[1;33m)\u001b[0m\u001b[1;33m\u001b[0m\u001b[1;33m\u001b[0m\u001b[0m\n\u001b[0m",
      "\u001b[1;32m<ipython-input-3-f67abeb40210>\u001b[0m in \u001b[0;36mconvert_gui\u001b[1;34m()\u001b[0m\n\u001b[0;32m     18\u001b[0m     \u001b[0moutput\u001b[0m\u001b[1;33m.\u001b[0m\u001b[0msetText\u001b[0m\u001b[1;33m(\u001b[0m\u001b[0mfahrenheit\u001b[0m\u001b[1;33m)\u001b[0m\u001b[1;33m\u001b[0m\u001b[1;33m\u001b[0m\u001b[0m\n\u001b[0;32m     19\u001b[0m     \u001b[0mbutton\u001b[0m\u001b[1;33m.\u001b[0m\u001b[0msetText\u001b[0m\u001b[1;33m(\u001b[0m\u001b[1;34m\"Quit\"\u001b[0m\u001b[1;33m)\u001b[0m\u001b[1;33m\u001b[0m\u001b[1;33m\u001b[0m\u001b[0m\n\u001b[1;32m---> 20\u001b[1;33m     \u001b[0mwin\u001b[0m\u001b[1;33m.\u001b[0m\u001b[0mgetMouse\u001b[0m\u001b[1;33m(\u001b[0m\u001b[1;33m)\u001b[0m\u001b[1;33m\u001b[0m\u001b[1;33m\u001b[0m\u001b[0m\n\u001b[0m\u001b[0;32m     21\u001b[0m     \u001b[0mwin\u001b[0m\u001b[1;33m.\u001b[0m\u001b[0mclose\u001b[0m\u001b[1;33m(\u001b[0m\u001b[1;33m)\u001b[0m\u001b[1;33m\u001b[0m\u001b[1;33m\u001b[0m\u001b[0m\n\u001b[0;32m     22\u001b[0m \u001b[0mconvert_gui\u001b[0m\u001b[1;33m(\u001b[0m\u001b[1;33m)\u001b[0m\u001b[1;33m\u001b[0m\u001b[1;33m\u001b[0m\u001b[0m\n",
      "\u001b[1;32mD:\\100Day-ML-Marathon\\1081ML\\Practice\\graphics.py\u001b[0m in \u001b[0;36mgetMouse\u001b[1;34m(self)\u001b[0m\n\u001b[0;32m    314\u001b[0m         \u001b[1;32mwhile\u001b[0m \u001b[0mself\u001b[0m\u001b[1;33m.\u001b[0m\u001b[0mmouseX\u001b[0m \u001b[1;33m==\u001b[0m \u001b[1;32mNone\u001b[0m \u001b[1;32mor\u001b[0m \u001b[0mself\u001b[0m\u001b[1;33m.\u001b[0m\u001b[0mmouseY\u001b[0m \u001b[1;33m==\u001b[0m \u001b[1;32mNone\u001b[0m\u001b[1;33m:\u001b[0m\u001b[1;33m\u001b[0m\u001b[1;33m\u001b[0m\u001b[0m\n\u001b[0;32m    315\u001b[0m             \u001b[0mself\u001b[0m\u001b[1;33m.\u001b[0m\u001b[0mupdate\u001b[0m\u001b[1;33m(\u001b[0m\u001b[1;33m)\u001b[0m\u001b[1;33m\u001b[0m\u001b[1;33m\u001b[0m\u001b[0m\n\u001b[1;32m--> 316\u001b[1;33m             \u001b[1;32mif\u001b[0m \u001b[0mself\u001b[0m\u001b[1;33m.\u001b[0m\u001b[0misClosed\u001b[0m\u001b[1;33m(\u001b[0m\u001b[1;33m)\u001b[0m\u001b[1;33m:\u001b[0m \u001b[1;32mraise\u001b[0m \u001b[0mGraphicsError\u001b[0m\u001b[1;33m(\u001b[0m\u001b[1;34m\"getMouse in closed window\"\u001b[0m\u001b[1;33m)\u001b[0m\u001b[1;33m\u001b[0m\u001b[1;33m\u001b[0m\u001b[0m\n\u001b[0m\u001b[0;32m    317\u001b[0m             \u001b[0mtime\u001b[0m\u001b[1;33m.\u001b[0m\u001b[0msleep\u001b[0m\u001b[1;33m(\u001b[0m\u001b[1;36m.1\u001b[0m\u001b[1;33m)\u001b[0m \u001b[1;31m# give up thread\u001b[0m\u001b[1;33m\u001b[0m\u001b[1;33m\u001b[0m\u001b[0m\n\u001b[0;32m    318\u001b[0m         \u001b[0mx\u001b[0m\u001b[1;33m,\u001b[0m\u001b[0my\u001b[0m \u001b[1;33m=\u001b[0m \u001b[0mself\u001b[0m\u001b[1;33m.\u001b[0m\u001b[0mtoWorld\u001b[0m\u001b[1;33m(\u001b[0m\u001b[0mself\u001b[0m\u001b[1;33m.\u001b[0m\u001b[0mmouseX\u001b[0m\u001b[1;33m,\u001b[0m \u001b[0mself\u001b[0m\u001b[1;33m.\u001b[0m\u001b[0mmouseY\u001b[0m\u001b[1;33m)\u001b[0m\u001b[1;33m\u001b[0m\u001b[1;33m\u001b[0m\u001b[0m\n",
      "\u001b[1;31mGraphicsError\u001b[0m: getMouse in closed window"
     ]
    }
   ],
   "source": [
    "from graphics import *\n",
    "def convert_gui():\n",
    "    win = GraphWin(\"Celsius Converter\", 400, 300)\n",
    "    win.setCoords(0.0, 0.0, 3.0, 4.0)\n",
    "    Text(Point(1, 3),\"Celsius Temperature:    \").draw(win)\n",
    "    Text(Point(1, 1),\"Fahrenheit Temperature:    \").draw(win)\n",
    "    input = Entry(Point(2,3),5)\n",
    "    input.setText(\"0.0\")\n",
    "    input.draw(win)\n",
    "    output = Text(Point(2,1),\"\")\n",
    "    output.draw(win)\n",
    "    button = Text(Point(1.5, 2.0), \"Conver It\")\n",
    "    button.draw(win)\n",
    "    Rectangle(Point(1, 1.5), Point(2, 2.5)).draw(win)\n",
    "    win.getMouse()\n",
    "    celsius = eval(input.getText())\n",
    "    fahrenheit = 9/5 * celsius + 32\n",
    "    output.setText(fahrenheit)\n",
    "    button.setText(\"Quit\")\n",
    "    win.getMouse()\n",
    "    win.close()\n",
    "convert_gui()"
   ]
  },
  {
   "cell_type": "code",
   "execution_count": 4,
   "metadata": {},
   "outputs": [
    {
     "name": "stdout",
     "output_type": "stream",
     "text": [
      "Happy Birthday to you!\n",
      "Happy Birthday to you!\n",
      "Happy Birthday, dear Fred.\n",
      "Happy Birthday to you!\n",
      "\n",
      "Happy Birthday to you!\n",
      "Happy Birthday to you!\n",
      "Happy Birthday, dear Lucy.\n",
      "Happy Birthday to you!\n",
      "\n",
      "Happy Birthday to you!\n",
      "Happy Birthday to you!\n",
      "Happy Birthday, dear Elmer.\n",
      "Happy Birthday to you!\n"
     ]
    }
   ],
   "source": [
    "def happy():\n",
    "    print(\"Happy Birthday to you!\")\n",
    "def sing(person):\n",
    "    happy()\n",
    "    happy()\n",
    "    print(\"Happy Birthday, dear\", person + \".\")\n",
    "    happy()\n",
    "def happy2():\n",
    "    sing(\"Fred\")\n",
    "    print()\n",
    "    sing(\"Lucy\")\n",
    "    print()\n",
    "    sing(\"Elmer\")\n",
    "happy2()"
   ]
  },
  {
   "cell_type": "code",
   "execution_count": 6,
   "metadata": {},
   "outputs": [],
   "source": [
    "import math\n",
    "from graphics import *\n",
    "def square(x):\n",
    "    return x*x\n",
    "def distance(p1, p2):\n",
    "    dist = math.sqrt(square(p2.getX()-p1.getX())+square(p2.getY()-p1.getY()))\n",
    "    return dist\n",
    "def triangle2():\n",
    "    win = GraphWin(\"Draw a Triangle\")\n",
    "    win.setCoords(0.0, 0.0, 10.0, 10.0)\n",
    "    message = Text(Point(5, 0.5),\"Click on three points\")\n",
    "    message.draw(win)\n",
    "    p1 = win.getMouse()\n",
    "    p1.draw(win)\n",
    "    p2 = win.getMouse()\n",
    "    p2.draw(win)\n",
    "    p3 = win.getMouse()\n",
    "    p3.draw(win)\n",
    "    triangle = Polygon(p1, p2, p3)\n",
    "    triangle.setFill(\"peachpuff\")\n",
    "    triangle.setOutline(\"cyan\")\n",
    "    triangle.draw(win)\n",
    "    perim = distance(p1, p2)+distance(p2, p3)+distance(p3, p1)\n",
    "    message.setText(\"The perimeter is:(0:0.2f).format(persim)\")\n",
    "    win.getMouse()\n",
    "    win.close()\n",
    "triangle2()    "
   ]
  },
  {
   "cell_type": "code",
   "execution_count": 7,
   "metadata": {},
   "outputs": [
    {
     "name": "stdout",
     "output_type": "stream",
     "text": [
      "1000\n"
     ]
    }
   ],
   "source": [
    "def addInterest(balance, rate):\n",
    "    newBalance = balance * (1+rate)\n",
    "    balance = newBalance\n",
    "def test():\n",
    "    amount =1000\n",
    "    rate = 0.05\n",
    "    addInterest(amount, rate)\n",
    "    print(amount)\n",
    "test()"
   ]
  },
  {
   "cell_type": "code",
   "execution_count": 9,
   "metadata": {},
   "outputs": [
    {
     "name": "stdout",
     "output_type": "stream",
     "text": [
      "1000\n"
     ]
    }
   ],
   "source": [
    "def addInterest2(balance, rate):\n",
    "    newBalance = balance * (1+rate)\n",
    "    balance = newBalance\n",
    "def test2():\n",
    "    amount =1000\n",
    "    rate = 0.05\n",
    "    addInterest(amount, rate)\n",
    "    print(amount)\n",
    "test2()"
   ]
  },
  {
   "cell_type": "code",
   "execution_count": 11,
   "metadata": {},
   "outputs": [
    {
     "name": "stdout",
     "output_type": "stream",
     "text": [
      "This program plots the growth of a 10-year investment\n",
      "Enter the initial principal:2000\n",
      "Enter the annualized interest rate:0.1\n",
      "Press <Enter> to quit\n"
     ]
    }
   ],
   "source": [
    "from graphics import *\n",
    "def drawBar(window, year, height):\n",
    "    bar = Rectangle(Point(year, 0), Point(year+1, height))\n",
    "    bar.setFill(\"green\")\n",
    "    bar.setWidth(2)\n",
    "    bar.draw(window)\n",
    "def futval_graph3():\n",
    "    print(\"This program plots the growth of a 10-year investment\")\n",
    "    principal = eval(input(\"Enter the initial principal:\"))\n",
    "    apr = eval(input(\"Enter the annualized interest rate:\"))\n",
    "    win = GraphWin(\"Investment Growth Chart\", 320, 240)\n",
    "    win.setBackground(\"white\")\n",
    "    win.setCoords(-1.75, -200, 11.5, 10400)\n",
    "    Text(Point(-1, 0),' 0.0K').draw(win)\n",
    "    Text(Point(-1, 2500),' 2.5K').draw(win)\n",
    "    Text(Point(-1, 5000),' 5.0K').draw(win)\n",
    "    Text(Point(-1, 7500),' 7.5K').draw(win)\n",
    "    Text(Point(-1, 10000),'10.0K').draw(win)\n",
    "    \n",
    "    drawBar(win, 0, principal)\n",
    "    for year in range(1, 11):\n",
    "        principal = principal * (1+apr)\n",
    "        drawBar(win, year, principal)\n",
    "        \n",
    "    input(\"Press <Enter> to quit\")\n",
    "    win.close()\n",
    "futval_graph3()"
   ]
  },
  {
   "cell_type": "code",
   "execution_count": 21,
   "metadata": {},
   "outputs": [
    {
     "name": "stdout",
     "output_type": "stream",
     "text": [
      "This program plots the growth of a 10-year investment\n",
      "Enter the initial principal:2000\n",
      "Enter the annualized interest rate:0.1\n",
      "Press <Enter> to quit\n"
     ]
    }
   ],
   "source": [
    "from graphics import *\n",
    "def createLabelWindow():\n",
    "    window = GraphWin(\"Investment Growth Chart\", 320, 240)\n",
    "    window.setBackground(\"white\")\n",
    "    window.setCoords(-1.75, -200, 11.5, 10400)\n",
    "    Text(Point(-1, 0),' 0.0K').draw(window)\n",
    "    Text(Point(-1, 2500),' 2.5K').draw(window)\n",
    "    Text(Point(-1, 5000),' 5.0K').draw(window)\n",
    "    Text(Point(-1, 7500),' 7.5K').draw(window)\n",
    "    Text(Point(-1, 10000),'10.0K').draw(window)\n",
    "    return window\n",
    "def drawBar(window, year, height):\n",
    "    bar = Rectangle(Point(year, 0), Point(year+1, height))\n",
    "    bar.setFill(\"green\")\n",
    "    bar.setWidth(2)\n",
    "    bar.draw(window)\n",
    "def futval_graph4():\n",
    "    print(\"This program plots the growth of a 10-year investment\")\n",
    "    principal = eval(input(\"Enter the initial principal:\"))\n",
    "    apr = eval(input(\"Enter the annualized interest rate:\"))\n",
    "    win = createLabelWindow()\n",
    "    drawBar(win, 0, principal)\n",
    "    for year in range(1, 11):\n",
    "        principal = principal * (1+apr)\n",
    "        drawBar(win, year, principal)\n",
    "        \n",
    "    input(\"Press <Enter> to quit\")\n",
    "    win.close()\n",
    "futval_graph4()"
   ]
  },
  {
   "cell_type": "code",
   "execution_count": null,
   "metadata": {},
   "outputs": [],
   "source": []
  }
 ],
 "metadata": {
  "kernelspec": {
   "display_name": "Python 3",
   "language": "python",
   "name": "python3"
  },
  "language_info": {
   "codemirror_mode": {
    "name": "ipython",
    "version": 3
   },
   "file_extension": ".py",
   "mimetype": "text/x-python",
   "name": "python",
   "nbconvert_exporter": "python",
   "pygments_lexer": "ipython3",
   "version": "3.7.3"
  }
 },
 "nbformat": 4,
 "nbformat_minor": 2
}
