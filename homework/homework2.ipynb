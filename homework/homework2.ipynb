{
 "cells": [
  {
   "cell_type": "code",
   "execution_count": 3,
   "id": "7b299564",
   "metadata": {},
   "outputs": [
    {
     "name": "stdout",
     "output_type": "stream",
     "text": [
      "請輸入體重(公斤)：80\n",
      "請輸入身高(公分)：172\n",
      "您的 BMI 分級是： 輕度肥胖\n"
     ]
    }
   ],
   "source": [
    "#1\n",
    "def main():\n",
    "    # 輸入體重\n",
    "    weight = float(input(\"請輸入體重(公斤)：\"))\n",
    "\n",
    "    # 輸入身高\n",
    "    height = float(input(\"請輸入身高(公分)：\"))\n",
    "\n",
    "    # 計算 BMI\n",
    "    bmi = weight / (height / 100) ** 2\n",
    "\n",
    "    # 判斷 BMI 分級\n",
    "    if bmi < 18.5:\n",
    "        category = \"體重過輕\"\n",
    "    elif bmi < 24:\n",
    "        category = \"正常範圍\"\n",
    "    elif bmi < 27:\n",
    "        category = \"體重過重\"\n",
    "    elif bmi < 30:\n",
    "        category = \"輕度肥胖\"\n",
    "    elif bmi < 35:\n",
    "        category = \"中度肥胖\"\n",
    "    else:\n",
    "        category = \"重度肥胖\"\n",
    "\n",
    "    # 輸出 BMI 分級\n",
    "    print(\"您的 BMI 分級是：\", category)\n",
    "\n",
    "main()"
   ]
  },
  {
   "cell_type": "code",
   "execution_count": 10,
   "id": "cb9fecdf",
   "metadata": {},
   "outputs": [
    {
     "name": "stdout",
     "output_type": "stream",
     "text": [
      "請輸入西元年：2000\n",
      "是閏年\n"
     ]
    }
   ],
   "source": [
    "#2\n",
    "def main():\n",
    "    # 輸入西元年\n",
    "    year = int(input(\"請輸入西元年：\"))\n",
    "\n",
    "    # 判斷閏年\n",
    "    if year % 4 == 0:\n",
    "        if year % 100 != 0:\n",
    "            is_leap_year = True\n",
    "        elif year % 400 == 0:\n",
    "            is_leap_year = True\n",
    "        else:\n",
    "            is_leap_year = False\n",
    "    else:\n",
    "        is_leap_year = False\n",
    "\n",
    "    # 輸出結果\n",
    "    if is_leap_year:\n",
    "        print(\"是閏年\")\n",
    "    else:\n",
    "        print(\"不是閏年\")\n",
    "\n",
    "main()"
   ]
  },
  {
   "cell_type": "code",
   "execution_count": 23,
   "id": "9c292c8e",
   "metadata": {},
   "outputs": [
    {
     "name": "stdout",
     "output_type": "stream",
     "text": [
      "請輸入日期 (mm/dd/yyyy)：02/29/1996\n",
      "日期正確\n"
     ]
    }
   ],
   "source": [
    "#3\n",
    "def main():\n",
    "    # 輸入日期\n",
    "    date = input(\"請輸入日期 (mm/dd/yyyy)：\")\n",
    "\n",
    "    # 分解日期\n",
    "    month, day, year = date.split(\"/\")\n",
    "    year = int(year)\n",
    "    day = int(day)\n",
    "    \n",
    "    # 判斷月份\n",
    "    if month not in [\"01\", \"02\", \"03\", \"04\", \"05\", \"06\", \"07\", \"08\", \"09\", \"10\", \"11\", \"12\"]:\n",
    "        print(\"月份錯誤\")\n",
    "        return\n",
    "\n",
    "    # 判斷日數\n",
    "    if month == \"02\":\n",
    "        if (year % 4 == 0 and year % 100 != 0) or year % 400 == 0:\n",
    "            if day > 29:\n",
    "                print(\"日期錯誤\")\n",
    "                return\n",
    "        else:\n",
    "            if day > 28:\n",
    "                print(\"日期錯誤\")\n",
    "                return\n",
    "    elif month in [\"01\", \"03\", \"05\", \"07\", \"08\", \"10\", \"12\"]:\n",
    "        if day > 31:\n",
    "            print(\"日期錯誤\")\n",
    "            return\n",
    "    else:\n",
    "        if day > 30:\n",
    "            print(\"日期錯誤\")\n",
    "            return\n",
    "\n",
    "    # 日期正確\n",
    "    print(\"日期正確\")\n",
    "\n",
    "main()"
   ]
  },
  {
   "cell_type": "code",
   "execution_count": 47,
   "id": "a4aa66cc",
   "metadata": {},
   "outputs": [
    {
     "name": "stdout",
     "output_type": "stream",
     "text": [
      "請輸入 n：11\n",
      "11 是質數\n"
     ]
    }
   ],
   "source": [
    "#4\n",
    "def main():\n",
    "    # 輸入 n\n",
    "    n = int(input(\"請輸入 n：\"))\n",
    "\n",
    "    # 判斷質數\n",
    "    if n <= 1:\n",
    "        is_prime = False\n",
    "    elif n == 2 or n == 3:\n",
    "        is_prime = True\n",
    "    else:\n",
    "        for i in range(2, int(n ** 0.5) + 1):\n",
    "            if n % i == 0:\n",
    "                is_prime = False\n",
    "                break\n",
    "        else:\n",
    "            is_prime = True\n",
    "\n",
    "    # 輸出結果\n",
    "    if is_prime:\n",
    "        print(n, \"是質數\")\n",
    "    else:\n",
    "        print(n, \"不是質數\")\n",
    "\n",
    "main()"
   ]
  },
  {
   "cell_type": "code",
   "execution_count": 59,
   "id": "3d99de0d",
   "metadata": {},
   "outputs": [
    {
     "name": "stdout",
     "output_type": "stream",
     "text": [
      "請輸入大於1的數字：22\n",
      "小於或等於 n 的質數：\n",
      "2\n",
      "3\n",
      "5\n",
      "7\n",
      "11\n",
      "13\n",
      "17\n",
      "19\n"
     ]
    }
   ],
   "source": [
    "#5\n",
    "def main():\n",
    "    # 輸入 n\n",
    "    while True:\n",
    "        n = int(input(\"請輸入大於1的數字：\"))\n",
    "        if n > 1: break\n",
    "\n",
    "    # 列出質數\n",
    "    primes = []\n",
    "    for i in range(2, n + 1):\n",
    "        is_prime = True\n",
    "        for j in range(2, int(i ** 0.5) + 1):\n",
    "            if i % j == 0:\n",
    "                is_prime = False\n",
    "                break\n",
    "        if is_prime:\n",
    "            primes.append(i)\n",
    "\n",
    "    # 輸出結果\n",
    "    print(\"小於或等於 n 的質數：\")\n",
    "    for prime in primes:\n",
    "        print(prime)\n",
    "\n",
    "main()"
   ]
  },
  {
   "cell_type": "code",
   "execution_count": null,
   "id": "e08db8c3",
   "metadata": {},
   "outputs": [],
   "source": []
  }
 ],
 "metadata": {
  "kernelspec": {
   "display_name": "Python 3 (ipykernel)",
   "language": "python",
   "name": "python3"
  },
  "language_info": {
   "codemirror_mode": {
    "name": "ipython",
    "version": 3
   },
   "file_extension": ".py",
   "mimetype": "text/x-python",
   "name": "python",
   "nbconvert_exporter": "python",
   "pygments_lexer": "ipython3",
   "version": "3.10.9"
  }
 },
 "nbformat": 4,
 "nbformat_minor": 5
}
