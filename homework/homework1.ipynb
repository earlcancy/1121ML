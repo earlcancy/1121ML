{
 "cells": [
  {
   "cell_type": "code",
   "execution_count": 95,
   "id": "125bb0c0",
   "metadata": {},
   "outputs": [
    {
     "name": "stdout",
     "output_type": "stream",
     "text": [
      "請輸入球體半徑：5\n",
      "球體體積： 523.5987755982989\n",
      "球體表面積： 314.1592653589793\n"
     ]
    }
   ],
   "source": [
    "#1\n",
    "import math\n",
    "\n",
    "def ball():\n",
    "    # 輸入球體半徑\n",
    "    r = float(input(\"請輸入球體半徑：\"))\n",
    "\n",
    "    # 計算體積\n",
    "    V = (4 / 3) * math.pi * r ** 3\n",
    "\n",
    "    # 計算表面積\n",
    "    A = 4 * math.pi * r ** 2\n",
    "\n",
    "    # 輸出結果\n",
    "    print(\"球體體積：\", V)\n",
    "    print(\"球體表面積：\", A)\n",
    "    \n",
    "ball()"
   ]
  },
  {
   "cell_type": "code",
   "execution_count": 12,
   "id": "5ffea180",
   "metadata": {},
   "outputs": [
    {
     "name": "stdout",
     "output_type": "stream",
     "text": [
      "請輸入牆壁高度：3\n",
      "請輸入梯子與地面的角度：30\n",
      "梯子長度： 6.000000000000001\n"
     ]
    }
   ],
   "source": [
    "#2\n",
    "import math\n",
    "\n",
    "def Length():\n",
    "    # 輸入牆壁高度和梯子與地面的角度\n",
    "    h = float(input(\"請輸入牆壁高度：\"))\n",
    "    theta = float(input(\"請輸入梯子與地面的角度：\"))\n",
    "\n",
    "    # 計算梯子長度\n",
    "    l = h / math.sin(math.radians(theta))\n",
    "\n",
    "    # 輸出結果\n",
    "    print(\"梯子長度：\", l)\n",
    "\n",
    "Length()"
   ]
  },
  {
   "cell_type": "code",
   "execution_count": 28,
   "id": "43162e84",
   "metadata": {},
   "outputs": [
    {
     "name": "stdout",
     "output_type": "stream",
     "text": [
      "請輸入要計算的項目數量：10\n",
      "π的近似值： 3.0418396189294032\n"
     ]
    }
   ],
   "source": [
    "#3\n",
    "import math\n",
    "\n",
    "def main():\n",
    "    # 輸入要計算的項目數量\n",
    "    n = int(input(\"請輸入要計算的項目數量：\"))\n",
    "\n",
    "    # 計算π的近似值\n",
    "    sum = 0\n",
    "    for i in range(1, n + 1):\n",
    "        j = (i * 2) - 1\n",
    "        if i % 2 == 0:\n",
    "            sum -= 4 / j\n",
    "        else:\n",
    "            sum += 4 / j\n",
    "\n",
    "    # 輸出結果\n",
    "    print(\"π的近似值：\", sum)\n",
    "    \n",
    "main()"
   ]
  },
  {
   "cell_type": "code",
   "execution_count": 30,
   "id": "7dda207d",
   "metadata": {},
   "outputs": [
    {
     "name": "stdout",
     "output_type": "stream",
     "text": [
      "The program computes the average of three exam scores.\n",
      "Enter three scores separated by a comma:25,70,100\n",
      "The average of the scores is: 65.0\n"
     ]
    }
   ],
   "source": [
    "#4\n",
    "def avg2():\n",
    "    print(\"The program computes the average of three exam scores.\")\n",
    "    score1, score2, score3=eval(input(\"Enter three scores separated by a comma:\"))\n",
    "    average=(score1+score2+score3)/3\n",
    "    print(\"The average of the scores is:\", average)\n",
    "avg2()"
   ]
  },
  {
   "cell_type": "code",
   "execution_count": 35,
   "id": "287c7886",
   "metadata": {},
   "outputs": [
    {
     "name": "stdout",
     "output_type": "stream",
     "text": [
      "What is the Celsius temperature?30\n",
      "1 : The temperature is 86.0 degree Fahrenheit.\n",
      "What is the Celsius temperature?10\n",
      "2 : The temperature is 50.0 degree Fahrenheit.\n",
      "What is the Celsius temperature?66\n",
      "3 : The temperature is 150.8 degree Fahrenheit.\n",
      "What is the Celsius temperature?36\n",
      "4 : The temperature is 96.8 degree Fahrenheit.\n",
      "What is the Celsius temperature?46\n",
      "5 : The temperature is 114.8 degree Fahrenheit.\n"
     ]
    }
   ],
   "source": [
    "#5\n",
    "def convert():\n",
    "    for i in range(5):\n",
    "        celsius=eval(input(\"What is the Celsius temperature?\"))\n",
    "        fahrenheit=9/5*celsius+32\n",
    "        print(i+1 ,\": The temperature is\", fahrenheit,\"degree Fahrenheit.\")\n",
    "convert()"
   ]
  },
  {
   "cell_type": "code",
   "execution_count": 40,
   "id": "433dc032",
   "metadata": {},
   "outputs": [
    {
     "name": "stdout",
     "output_type": "stream",
     "text": [
      "The program calculates the future value of a year investment.\n",
      "Enter the initial principal: 10000\n",
      "Enter the annual interest rate: 0.35\n",
      "Enter the specified number of years: 12\n",
      "The value in  12  year is: 366441.98070556443\n"
     ]
    }
   ],
   "source": [
    "#6\n",
    "def futval():\n",
    "    print(\"The program calculates the future value of a year investment.\")\n",
    "    principal=eval(input(\"Enter the initial principal: \"))\n",
    "    apr=eval(input(\"Enter the annual interest rate: \"))\n",
    "    year = eval(input(\"Enter the specified number of years: \"))\n",
    "    for i in range(year):\n",
    "        principal=principal*(1+apr)\n",
    "    print(\"The value in \", year ,\" year is:\", principal)\n",
    "futval()"
   ]
  },
  {
   "cell_type": "code",
   "execution_count": 45,
   "id": "08e19f0e",
   "metadata": {},
   "outputs": [
    {
     "name": "stdout",
     "output_type": "stream",
     "text": [
      "請輸入第一個正整數：4\n",
      "請輸入第二個正整數：6\n",
      "最大公因數： 2\n"
     ]
    }
   ],
   "source": [
    "#7\n",
    "def main():\n",
    "    # 輸入兩個正整數\n",
    "    a = int(input(\"請輸入第一個正整數：\"))\n",
    "    b = int(input(\"請輸入第二個正整數：\"))\n",
    "\n",
    "    # 計算最大公因數\n",
    "    while b != 0:\n",
    "        a, b = b, a % b\n",
    "    gcd = a\n",
    "\n",
    "    # 輸出結果\n",
    "    print(\"最大公因數：\", gcd)\n",
    "    \n",
    "main()"
   ]
  },
  {
   "cell_type": "code",
   "execution_count": 48,
   "id": "d41f47f6",
   "metadata": {},
   "outputs": [
    {
     "name": "stdout",
     "output_type": "stream",
     "text": [
      "請輸入表示式：6*10-8*(5+2)\n",
      "計算結果： 4\n",
      "請輸入表示式：ggg\n"
     ]
    },
    {
     "ename": "NameError",
     "evalue": "name 'ggg' is not defined",
     "output_type": "error",
     "traceback": [
      "\u001b[1;31m---------------------------------------------------------------------------\u001b[0m",
      "\u001b[1;31mNameError\u001b[0m                                 Traceback (most recent call last)",
      "Cell \u001b[1;32mIn[48], line 12\u001b[0m\n\u001b[0;32m      9\u001b[0m         \u001b[38;5;66;03m# 輸出計算結果\u001b[39;00m\n\u001b[0;32m     10\u001b[0m         \u001b[38;5;28mprint\u001b[39m(\u001b[38;5;124m\"\u001b[39m\u001b[38;5;124m計算結果：\u001b[39m\u001b[38;5;124m\"\u001b[39m, expression)\n\u001b[1;32m---> 12\u001b[0m \u001b[43mmain\u001b[49m\u001b[43m(\u001b[49m\u001b[43m)\u001b[49m\n",
      "Cell \u001b[1;32mIn[48], line 7\u001b[0m, in \u001b[0;36mmain\u001b[1;34m()\u001b[0m\n\u001b[0;32m      3\u001b[0m \u001b[38;5;28;01mdef\u001b[39;00m \u001b[38;5;21mmain\u001b[39m():\n\u001b[0;32m      4\u001b[0m     \u001b[38;5;66;03m# 使用 for 迴圈讓使用者能一直輸入表示式\u001b[39;00m\n\u001b[0;32m      5\u001b[0m     \u001b[38;5;28;01mwhile\u001b[39;00m \u001b[38;5;28;01mTrue\u001b[39;00m:\n\u001b[0;32m      6\u001b[0m         \u001b[38;5;66;03m# 輸入表示式\u001b[39;00m\n\u001b[1;32m----> 7\u001b[0m         expression \u001b[38;5;241m=\u001b[39m \u001b[38;5;28;43meval\u001b[39;49m\u001b[43m(\u001b[49m\u001b[38;5;28;43minput\u001b[39;49m\u001b[43m(\u001b[49m\u001b[38;5;124;43m\"\u001b[39;49m\u001b[38;5;124;43m請輸入表示式：\u001b[39;49m\u001b[38;5;124;43m\"\u001b[39;49m\u001b[43m)\u001b[49m\u001b[43m)\u001b[49m\n\u001b[0;32m      9\u001b[0m         \u001b[38;5;66;03m# 輸出計算結果\u001b[39;00m\n\u001b[0;32m     10\u001b[0m         \u001b[38;5;28mprint\u001b[39m(\u001b[38;5;124m\"\u001b[39m\u001b[38;5;124m計算結果：\u001b[39m\u001b[38;5;124m\"\u001b[39m, expression)\n",
      "File \u001b[1;32m<string>:1\u001b[0m\n",
      "\u001b[1;31mNameError\u001b[0m: name 'ggg' is not defined"
     ]
    }
   ],
   "source": [
    "#8\n",
    "import math\n",
    "\n",
    "def main():\n",
    "    # 使用 for 迴圈讓使用者能一直輸入表示式\n",
    "    while True:\n",
    "        # 輸入表示式\n",
    "        expression = eval(input(\"請輸入表示式：\"))\n",
    "\n",
    "        # 輸出計算結果\n",
    "        print(\"計算結果：\", expression)\n",
    "\n",
    "main()"
   ]
  },
  {
   "cell_type": "code",
   "execution_count": 54,
   "id": "5c75b66d",
   "metadata": {},
   "outputs": [
    {
     "name": "stdout",
     "output_type": "stream",
     "text": [
      "請輸入成績：75\n",
      "學生等級： C\n"
     ]
    }
   ],
   "source": [
    "#9\n",
    "def main():\n",
    "    # 輸入成績\n",
    "    score = int(input(\"請輸入成績：\"))\n",
    "\n",
    "    # 判斷等級\n",
    "    if score >= 90:\n",
    "        grade = \"A\"\n",
    "    elif score >= 80:\n",
    "        grade = \"B\"\n",
    "    elif score >= 70:\n",
    "        grade = \"C\"\n",
    "    elif score >= 60:\n",
    "        grade = \"D\"\n",
    "    else:\n",
    "        grade = \"F\"\n",
    "    \n",
    "    # 輸出等級\n",
    "    print(\"學生等級：\", grade)\n",
    "\n",
    "main()"
   ]
  },
  {
   "cell_type": "code",
   "execution_count": 57,
   "id": "15c3b176",
   "metadata": {},
   "outputs": [],
   "source": [
    "#10\n",
    "def main():\n",
    "    # 讀取輸入檔案\n",
    "    with open(\"scores.txt\", \"r\") as f:\n",
    "        scores = f.readlines()\n",
    "\n",
    "    # 轉換分數為等級\n",
    "    grades = []\n",
    "    for score in scores:\n",
    "        score = int(score)\n",
    "        if score >= 90:\n",
    "            grade = \"A\"\n",
    "        elif score >= 80:\n",
    "            grade = \"B\"\n",
    "        elif score >= 70:\n",
    "            grade = \"C\"\n",
    "        elif score >= 60:\n",
    "            grade = \"D\"\n",
    "        else:\n",
    "            grade = \"F\"\n",
    "        grades.append(grade+\"\\n\")\n",
    "\n",
    "    # 寫入輸出檔案\n",
    "    with open(\"grades.txt\", \"w\") as f:\n",
    "        f.writelines(grades)\n",
    "        \n",
    "main()"
   ]
  },
  {
   "cell_type": "code",
   "execution_count": 59,
   "id": "74bbfc95",
   "metadata": {},
   "outputs": [
    {
     "name": "stdout",
     "output_type": "stream",
     "text": [
      "請輸入一組字：My name is teresa\n",
      "首字縮寫字： MNIT\n"
     ]
    }
   ],
   "source": [
    "#11\n",
    "def main():\n",
    "    # 輸入一組字\n",
    "    words = input(\"請輸入一組字：\")\n",
    "\n",
    "    # 將字串轉換為列表\n",
    "    words = words.split(\" \")\n",
    "\n",
    "    # 計算首字縮寫字\n",
    "    acronym = \"\"\n",
    "    for word in words:\n",
    "        acronym += word[0].upper()\n",
    "\n",
    "    # 輸出首字縮寫字\n",
    "    print(\"首字縮寫字：\", acronym)\n",
    "\n",
    "main()"
   ]
  },
  {
   "cell_type": "code",
   "execution_count": 71,
   "id": "c7f64a65",
   "metadata": {},
   "outputs": [
    {
     "name": "stdout",
     "output_type": "stream",
     "text": [
      "請輸入您的生日(格式:mm/dd/yyyy):12/10/1958\n",
      "您的人格特質數字是： 9\n"
     ]
    }
   ],
   "source": [
    "#12\n",
    "def main():\n",
    "    # 輸入生日\n",
    "    birthday = input(\"請輸入您的生日(格式:mm/dd/yyyy):\")\n",
    "\n",
    "    # 將生日轉換為列表\n",
    "    birthday = birthday.split(\"/\")\n",
    "\n",
    "    # 計算生日數值\n",
    "    number = 0\n",
    "    for day in birthday:\n",
    "        number += int(day)\n",
    "\n",
    "    # 計算人格特質數字\n",
    "    while number >= 10:\n",
    "        Traits = 0\n",
    "        while number >= 10:\n",
    "            Traits += number % 10\n",
    "            number = number // 10\n",
    "            \n",
    "        Traits += number\n",
    "        number = Traits\n",
    "    \n",
    "    # 輸出人格特質數字\n",
    "    print(\"您的人格特質數字是：\", Traits)\n",
    "\n",
    "main()"
   ]
  },
  {
   "cell_type": "code",
   "execution_count": 79,
   "id": "89c497c1",
   "metadata": {},
   "outputs": [
    {
     "name": "stdout",
     "output_type": "stream",
     "text": [
      "請輸入n個數字：6 8 15 29 35 47 77 3 2 4 1 0\n",
      "請輸入指定第k大的數字：1\n",
      "第1大的數字是：77\n",
      "請輸入指定第k大的數字：2\n",
      "第2大的數字是：47\n",
      "請輸入指定第k大的數字：3\n",
      "第3大的數字是：35\n",
      "請輸入指定第k大的數字：4\n",
      "第4大的數字是：29\n",
      "請輸入指定第k大的數字：5\n",
      "第5大的數字是：15\n",
      "請輸入指定第k大的數字：0\n",
      "程式結束\n"
     ]
    }
   ],
   "source": [
    "#13\n",
    "def main():\n",
    "    # 輸入n個數字\n",
    "    words = input(\"請輸入n個數字：\")\n",
    "\n",
    "    #轉換為數字\n",
    "    numbers = []\n",
    "    for numStr in words.split():\n",
    "        numbers.append(eval(numStr))\n",
    "                       \n",
    "    # 排序數字\n",
    "    numbers.sort()\n",
    "\n",
    "    # 輸出第k大的數字\n",
    "    while True:\n",
    "        k = int(input(\"請輸入指定第k大的數字：\"))\n",
    "        if k == 0:\n",
    "            print(\"程式結束\")\n",
    "            break\n",
    "        else:\n",
    "            print(\"第{}大的數字是：{}\".format(k, numbers[-k]))\n",
    "\n",
    "main() "
   ]
  },
  {
   "cell_type": "code",
   "execution_count": 81,
   "id": "1cc5a30a",
   "metadata": {},
   "outputs": [
    {
     "name": "stdout",
     "output_type": "stream",
     "text": [
      "請輸入月薪：66000\n",
      "請輸入工作年數：11\n",
      "年薪： 8712000.0\n",
      "平均每日薪資： 2169.8630136986303\n"
     ]
    }
   ],
   "source": [
    "#14\n",
    "def main():\n",
    "    # 輸入月薪\n",
    "    monthly_salary = float(input(\"請輸入月薪：\"))\n",
    "\n",
    "    # 輸入工作年數\n",
    "    years_of_service = int(input(\"請輸入工作年數：\"))\n",
    "\n",
    "    # 計算年薪\n",
    "    annual_salary = monthly_salary * 12 * years_of_service\n",
    "\n",
    "    # 計算平均每日薪資\n",
    "    daily_salary = monthly_salary * 12 / 365\n",
    "\n",
    "    # 輸出結果\n",
    "    print(\"年薪：\", annual_salary)\n",
    "    print(\"平均每日薪資：\", daily_salary)\n",
    "\n",
    "main()"
   ]
  },
  {
   "cell_type": "code",
   "execution_count": 96,
   "id": "6726b96a",
   "metadata": {},
   "outputs": [
    {
     "name": "stdout",
     "output_type": "stream",
     "text": [
      "2*1=2\t3*1=3\t4*1=4\t5*1=5\t6*1=6\t7*1=7\t8*1=8\t9*1=9\t\n",
      "\n",
      "2*2=4\t3*2=6\t4*2=8\t5*2=10\t6*2=12\t7*2=14\t8*2=16\t9*2=18\t\n",
      "\n",
      "2*3=6\t3*3=9\t4*3=12\t5*3=15\t6*3=18\t7*3=21\t8*3=24\t9*3=27\t\n",
      "\n",
      "2*4=8\t3*4=12\t4*4=16\t5*4=20\t6*4=24\t7*4=28\t8*4=32\t9*4=36\t\n",
      "\n",
      "2*5=10\t3*5=15\t4*5=20\t5*5=25\t6*5=30\t7*5=35\t8*5=40\t9*5=45\t\n",
      "\n",
      "2*6=12\t3*6=18\t4*6=24\t5*6=30\t6*6=36\t7*6=42\t8*6=48\t9*6=54\t\n",
      "\n",
      "2*7=14\t3*7=21\t4*7=28\t5*7=35\t6*7=42\t7*7=49\t8*7=56\t9*7=63\t\n",
      "\n",
      "2*8=16\t3*8=24\t4*8=32\t5*8=40\t6*8=48\t7*8=56\t8*8=64\t9*8=72\t\n",
      "\n",
      "2*9=18\t3*9=27\t4*9=36\t5*9=45\t6*9=54\t7*9=63\t8*9=72\t9*9=81\t\n",
      "\n"
     ]
    }
   ],
   "source": [
    "#15\n",
    "def main():\n",
    "    for i in range(1 , 10):\n",
    "        word = \"\"\n",
    "        for j in range(2 , 10):\n",
    "            k =  i * j\n",
    "            word += \"{}{}{}{}{}{}\".format(j, \"*\", i , \"=\", k, \"\\t\")\n",
    "           \n",
    "        \n",
    "        print(word + \"\\n\")\n",
    "        \n",
    "main()"
   ]
  },
  {
   "cell_type": "code",
   "execution_count": null,
   "id": "b0b6eb6b",
   "metadata": {},
   "outputs": [],
   "source": []
  }
 ],
 "metadata": {
  "kernelspec": {
   "display_name": "Python 3 (ipykernel)",
   "language": "python",
   "name": "python3"
  },
  "language_info": {
   "codemirror_mode": {
    "name": "ipython",
    "version": 3
   },
   "file_extension": ".py",
   "mimetype": "text/x-python",
   "name": "python",
   "nbconvert_exporter": "python",
   "pygments_lexer": "ipython3",
   "version": "3.10.9"
  }
 },
 "nbformat": 4,
 "nbformat_minor": 5
}
