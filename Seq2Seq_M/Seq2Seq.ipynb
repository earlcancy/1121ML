{
  "nbformat": 4,
  "nbformat_minor": 0,
  "metadata": {
    "colab": {
      "provenance": [],
      "gpuType": "T4"
    },
    "kernelspec": {
      "name": "python3",
      "display_name": "Python 3"
    },
    "language_info": {
      "name": "python"
    },
    "accelerator": "GPU"
  },
  "cells": [
    {
      "cell_type": "code",
      "execution_count": null,
      "metadata": {
        "colab": {
          "base_uri": "https://localhost:8080/"
        },
        "id": "c74DGrrUod8A",
        "outputId": "69902a91-11c6-47e9-ced6-bfc3de369f47"
      },
      "outputs": [
        {
          "output_type": "stream",
          "name": "stdout",
          "text": [
            "--2023-10-28 14:13:39--  http://www.manythings.org/anki/cmn-eng.zip\n",
            "Resolving www.manythings.org (www.manythings.org)... 173.254.30.110\n",
            "Connecting to www.manythings.org (www.manythings.org)|173.254.30.110|:80... connected.\n",
            "HTTP request sent, awaiting response... 200 OK\n",
            "Length: 1278411 (1.2M) [application/zip]\n",
            "Saving to: ‘cmn-eng.zip’\n",
            "\n",
            "\rcmn-eng.zip           0%[                    ]       0  --.-KB/s               \rcmn-eng.zip         100%[===================>]   1.22M  --.-KB/s    in 0.02s   \n",
            "\n",
            "2023-10-28 14:13:39 (58.9 MB/s) - ‘cmn-eng.zip’ saved [1278411/1278411]\n",
            "\n",
            "Archive:  cmn-eng.zip\n",
            "  inflating: ./cmn-eng/cmn.txt       \n",
            "  inflating: ./cmn-eng/_about.txt    \n"
          ]
        }
      ],
      "source": [
        "!wget http://www.manythings.org/anki/cmn-eng.zip\n",
        "!unzip -d ./cmn-eng cmn-eng.zip"
      ]
    },
    {
      "cell_type": "code",
      "source": [
        "import torch\n",
        "print(torch.__version__)"
      ],
      "metadata": {
        "colab": {
          "base_uri": "https://localhost:8080/",
          "height": 230
        },
        "id": "axwisr3SeuuA",
        "outputId": "74836029-e4fb-458c-b99d-b9238ea26b41"
      },
      "execution_count": 27,
      "outputs": [
        {
          "output_type": "stream",
          "name": "stdout",
          "text": [
            "2.1.0+cu118\n"
          ]
        },
        {
          "output_type": "error",
          "ename": "AttributeError",
          "evalue": "ignored",
          "traceback": [
            "\u001b[0;31m---------------------------------------------------------------------------\u001b[0m",
            "\u001b[0;31mAttributeError\u001b[0m                            Traceback (most recent call last)",
            "\u001b[0;32m<ipython-input-27-524c72bcb3a1>\u001b[0m in \u001b[0;36m<cell line: 6>\u001b[0;34m()\u001b[0m\n\u001b[1;32m      4\u001b[0m \u001b[0;34m\u001b[0m\u001b[0m\n\u001b[1;32m      5\u001b[0m \u001b[0;32mimport\u001b[0m \u001b[0mrandom\u001b[0m\u001b[0;34m\u001b[0m\u001b[0;34m\u001b[0m\u001b[0m\n\u001b[0;32m----> 6\u001b[0;31m \u001b[0mprint\u001b[0m\u001b[0;34m(\u001b[0m\u001b[0mrandom\u001b[0m\u001b[0;34m.\u001b[0m\u001b[0m__version__\u001b[0m\u001b[0;34m)\u001b[0m\u001b[0;34m\u001b[0m\u001b[0;34m\u001b[0m\u001b[0m\n\u001b[0m",
            "\u001b[0;31mAttributeError\u001b[0m: module 'random' has no attribute '__version__'"
          ]
        }
      ]
    },
    {
      "cell_type": "code",
      "source": [
        "seed = 2020"
      ],
      "metadata": {
        "id": "EVuXoB6-okxm"
      },
      "execution_count": 1,
      "outputs": []
    },
    {
      "cell_type": "code",
      "source": [
        "import torch\n",
        "import torch.nn as nn\n",
        "import torch.optim as optim\n",
        "import torch.nn.functional as F\n",
        "from torch.utils.data import Dataset, DataLoader\n",
        "\n",
        "import time\n",
        "import math\n",
        "import random"
      ],
      "metadata": {
        "id": "cERSuFCeom_n"
      },
      "execution_count": 2,
      "outputs": []
    },
    {
      "cell_type": "code",
      "source": [
        "device = torch.device('cuda' if torch.cuda.is_available() else 'cpu')"
      ],
      "metadata": {
        "id": "jtCb9CJRoqXP"
      },
      "execution_count": 3,
      "outputs": []
    },
    {
      "cell_type": "code",
      "source": [
        "# 'Hi.\\t嗨。\\tCC-BY 2.0 (France) Attribution: tatoeba.org #538123 (CM) & #891077 (Martha)'\n",
        "with open('./cmn_tw.txt', 'r', encoding='utf-8') as f:\n",
        "    data = f.read()\n",
        "data = data.strip()\n",
        "data = data.split('\\n')\n",
        "print('樣本數:\\n', len(data))\n",
        "print('\\n樣本示例:')\n",
        "data[0]"
      ],
      "metadata": {
        "colab": {
          "base_uri": "https://localhost:8080/",
          "height": 105
        },
        "id": "IfEI-FBBotHl",
        "outputId": "3c69c21c-7c69-4a25-98ca-059c9bdaf8fc"
      },
      "execution_count": 4,
      "outputs": [
        {
          "output_type": "stream",
          "name": "stdout",
          "text": [
            "樣本數:\n",
            " 29513\n",
            "\n",
            "樣本示例:\n"
          ]
        },
        {
          "output_type": "execute_result",
          "data": {
            "text/plain": [
              "'Hi.\\t嗨'"
            ],
            "application/vnd.google.colaboratory.intrinsic+json": {
              "type": "string"
            }
          },
          "metadata": {},
          "execution_count": 4
        }
      ]
    },
    {
      "cell_type": "code",
      "source": [
        "# 分割英文數據和中文數據\n",
        "en_data = [line.split('\\t')[0] for line in data]\n",
        "ch_data = [line.split('\\t')[1] for line in data]\n",
        "print('英文數據:\\n', en_data[:10])\n",
        "print('\\n中文數據:\\n', ch_data[:10])"
      ],
      "metadata": {
        "colab": {
          "base_uri": "https://localhost:8080/"
        },
        "id": "EBZsASH3pY46",
        "outputId": "16d37a4b-b437-4d41-e66c-1b159a683704"
      },
      "execution_count": 5,
      "outputs": [
        {
          "output_type": "stream",
          "name": "stdout",
          "text": [
            "英文數據:\n",
            " ['Hi.', 'Hi.', 'Run.', 'Stop', 'Wait', 'Wait', 'Begin.', 'Hello', 'I try.', 'I won']\n",
            "\n",
            "中文數據:\n",
            " ['嗨', '你好', '跑步', '停止', '等待', '等一下', '開始', '你好', '我嘗試一下', '我贏了']\n"
          ]
        }
      ]
    },
    {
      "cell_type": "code",
      "source": [
        "# 按字符级切割，並添加<eos>\n",
        "en_token_list = [[char for char in line]+[\"<eos>\"] for line in en_data]\n",
        "ch_token_list = [[char for char in line]+[\"<eos>\"] for line in ch_data]\n",
        "print('英文數據:\\n', en_token_list[:2])\n",
        "print('\\n中文數據:\\n', ch_token_list[:2])"
      ],
      "metadata": {
        "colab": {
          "base_uri": "https://localhost:8080/"
        },
        "id": "GEYb15zJpdxX",
        "outputId": "1da238dd-2400-4628-e71d-41cc14a53fee"
      },
      "execution_count": 6,
      "outputs": [
        {
          "output_type": "stream",
          "name": "stdout",
          "text": [
            "英文數據:\n",
            " [['H', 'i', '.', '<eos>'], ['H', 'i', '.', '<eos>']]\n",
            "\n",
            "中文數據:\n",
            " [['嗨', '<eos>'], ['你', '好', '<eos>']]\n"
          ]
        }
      ]
    },
    {
      "cell_type": "code",
      "source": [
        "# 基本字典\n",
        "basic_dict = {'<pad>':0, '<unk>':1, '<bos>':2, '<eos>':3}\n",
        "# 分別生成中英文字典\n",
        "en_vocab = set(''.join(en_data))\n",
        "en2id = {char:i+len(basic_dict) for i, char in enumerate(en_vocab)}\n",
        "en2id.update(basic_dict)\n",
        "id2en = {v:k for k,v in en2id.items()}\n",
        "\n",
        "# 分別生成中英文字典\n",
        "ch_vocab = set(''.join(ch_data))\n",
        "ch2id = {char:i+len(basic_dict) for i, char in enumerate(ch_vocab)}\n",
        "ch2id.update(basic_dict)\n",
        "id2ch = {v:k for k,v in ch2id.items()}"
      ],
      "metadata": {
        "id": "8igKfsyUphO9"
      },
      "execution_count": 7,
      "outputs": []
    },
    {
      "cell_type": "code",
      "source": [
        "# 利用字典，對應數據\n",
        "en_num_data = [[en2id[en] for en in line ] for line in en_token_list]\n",
        "ch_num_data = [[ch2id[ch] for ch in line] for line in ch_token_list]\n",
        "\n",
        "print('char:', en_data[1])\n",
        "print('index:', en_num_data[1])"
      ],
      "metadata": {
        "colab": {
          "base_uri": "https://localhost:8080/"
        },
        "id": "c9TGG2uTpkBX",
        "outputId": "bb8beace-d838-4a3a-8f9a-db3bde6df13f"
      },
      "execution_count": 8,
      "outputs": [
        {
          "output_type": "stream",
          "name": "stdout",
          "text": [
            "char: Hi.\n",
            "index: [63, 71, 57, 3]\n"
          ]
        }
      ]
    },
    {
      "cell_type": "markdown",
      "source": [
        "## **表示為Dataset**"
      ],
      "metadata": {
        "id": "lUfz78y8asyG"
      }
    },
    {
      "cell_type": "code",
      "source": [
        "class TranslationDataset(Dataset):\n",
        "    def __init__(self, src_data, trg_data):\n",
        "        self.src_data = src_data\n",
        "        self.trg_data = trg_data\n",
        "\n",
        "        assert len(src_data) == len(trg_data), \\\n",
        "            \"numbers of src_data  and trg_data must be equal!\"\n",
        "\n",
        "    def __len__(self):\n",
        "        return len(self.src_data)\n",
        "\n",
        "    def __getitem__(self, idx):\n",
        "        src_sample =self.src_data[idx]\n",
        "        src_len = len(self.src_data[idx])\n",
        "        trg_sample = self.trg_data[idx]\n",
        "        trg_len = len(self.trg_data[idx])\n",
        "        return {\"src\": src_sample, \"src_len\": src_len, \"trg\": trg_sample, \"trg_len\": trg_len}"
      ],
      "metadata": {
        "id": "5E06U5KKpoxX"
      },
      "execution_count": 9,
      "outputs": []
    },
    {
      "cell_type": "code",
      "source": [
        "def padding_batch(batch):\n",
        "    \"\"\"\n",
        "    input: -> list of dict\n",
        "        [{'src': [1, 2, 3], 'trg': [1, 2, 3]}, {'src': [1, 2, 2, 3], 'trg': [1, 2, 2, 3]}]\n",
        "    output: -> dict of tensor\n",
        "        {\n",
        "            \"src\": [[1, 2, 3, 0], [1, 2, 2, 3]].T\n",
        "            \"trg\": [[1, 2, 3, 0], [1, 2, 2, 3]].T\n",
        "        }\n",
        "    \"\"\"\n",
        "    src_lens = [d[\"src_len\"] for d in batch]\n",
        "    trg_lens = [d[\"trg_len\"] for d in batch]\n",
        "\n",
        "    src_max = max([d[\"src_len\"] for d in batch])\n",
        "    trg_max = max([d[\"trg_len\"] for d in batch])\n",
        "    for d in batch:\n",
        "        d[\"src\"].extend([en2id[\"<pad>\"]]*(src_max-d[\"src_len\"]))\n",
        "        d[\"trg\"].extend([ch2id[\"<pad>\"]]*(trg_max-d[\"trg_len\"]))\n",
        "    srcs = torch.tensor([pair[\"src\"] for pair in batch], dtype=torch.long, device=device)\n",
        "    trgs = torch.tensor([pair[\"trg\"] for pair in batch], dtype=torch.long, device=device)\n",
        "\n",
        "    batch = {\"src\":srcs.T, \"src_len\":src_lens, \"trg\":trgs.T, \"trg_len\":trg_lens}\n",
        "    return batch"
      ],
      "metadata": {
        "id": "PKAfU9zkprn7"
      },
      "execution_count": 10,
      "outputs": []
    },
    {
      "cell_type": "code",
      "source": [
        "class Encoder(nn.Module):\n",
        "    def __init__(self, input_dim, emb_dim, hid_dim, n_layers, dropout=0.5, bidirectional=True):\n",
        "        super(Encoder, self).__init__()\n",
        "\n",
        "        self.hid_dim = hid_dim\n",
        "        self.n_layers = n_layers\n",
        "\n",
        "        self.embedding = nn.Embedding(input_dim, emb_dim)\n",
        "        self.gru = nn.GRU(emb_dim, hid_dim, n_layers, dropout=dropout, bidirectional=bidirectional)\n",
        "\n",
        "    def forward(self, input_seqs, input_lengths, hidden):\n",
        "        # input_seqs = [seq_len, batch]\n",
        "        embedded = self.embedding(input_seqs)\n",
        "        # embedded = [seq_len, batch, embed_dim]\n",
        "        packed = torch.nn.utils.rnn.pack_padded_sequence(embedded, input_lengths, enforce_sorted=False)\n",
        "\n",
        "        outputs, hidden = self.gru(packed, hidden)\n",
        "        outputs, output_lengths = torch.nn.utils.rnn.pad_packed_sequence(outputs)\n",
        "        # outputs = [seq_len, batch, hid_dim * n directions]\n",
        "        # output_lengths = [batch]\n",
        "        return outputs, hidden"
      ],
      "metadata": {
        "id": "ixuHrUkmpt2y"
      },
      "execution_count": 11,
      "outputs": []
    },
    {
      "cell_type": "code",
      "source": [
        "class Decoder(nn.Module):\n",
        "    def __init__(self, output_dim, emb_dim, hid_dim, n_layers, dropout=0.5, bidirectional=True):\n",
        "        super(Decoder, self).__init__()\n",
        "\n",
        "        self.output_dim = output_dim\n",
        "        self.hid_dim = hid_dim\n",
        "        self.n_layers = n_layers\n",
        "\n",
        "        self.embedding = nn.Embedding(output_dim, emb_dim)\n",
        "        self.gru = nn.GRU(emb_dim, hid_dim, n_layers, dropout=dropout, bidirectional=bidirectional)\n",
        "\n",
        "        if bidirectional:\n",
        "            self.fc_out = nn.Linear(hid_dim*2, output_dim)\n",
        "        else:\n",
        "            self.fc_out = nn.Linear(hid_dim, output_dim)\n",
        "        self.dropout = nn.Dropout(dropout)\n",
        "        self.softmax = nn.LogSoftmax(dim=1)\n",
        "\n",
        "    def forward(self, token_inputs, hidden):\n",
        "        # token_inputs = [batch]\n",
        "        batch_size = token_inputs.size(0)\n",
        "        embedded = self.dropout(self.embedding(token_inputs).view(1, batch_size, -1))\n",
        "        # embedded = [1, batch, emb_dim]\n",
        "\n",
        "        output, hidden = self.gru(embedded, hidden)\n",
        "        # output = [1, batch,  n_directions * hid_dim]\n",
        "        # hidden = [n_layers * n_directions, batch, hid_dim]\n",
        "\n",
        "        output = self.fc_out(output.squeeze(0))\n",
        "        output = self.softmax(output)\n",
        "        # output = [batch, output_dim]\n",
        "        return output, hidden"
      ],
      "metadata": {
        "id": "6ixrI1u9pvwY"
      },
      "execution_count": 12,
      "outputs": []
    },
    {
      "cell_type": "code",
      "source": [
        "class Seq2Seq(nn.Module):\n",
        "    def __init__(self,\n",
        "                 encoder,\n",
        "                 decoder,\n",
        "                 device,\n",
        "                 predict=False,\n",
        "                 basic_dict=None,\n",
        "                 max_len=100\n",
        "                 ):\n",
        "        super(Seq2Seq, self).__init__()\n",
        "\n",
        "        self.device = device\n",
        "\n",
        "        self.encoder = encoder\n",
        "        self.decoder = decoder\n",
        "\n",
        "        self.predict = predict  # 訓練階段還是預測階段\n",
        "        self.basic_dict = basic_dict  # decoder的字典，存放特殊token對應的id\n",
        "        self.max_len = max_len  # 翻譯時最大輸出長度\n",
        "\n",
        "        self.enc_n_layers = self.encoder.gru.num_layers\n",
        "        self.enc_n_directions = 2 if self.encoder.gru.bidirectional else 1\n",
        "        self.dec_n_directions = 2 if self.decoder.gru.bidirectional else 1\n",
        "\n",
        "        assert encoder.hid_dim == decoder.hid_dim, \\\n",
        "            \"Hidden dimensions of encoder and decoder must be equal!\"\n",
        "        assert encoder.n_layers == decoder.n_layers, \\\n",
        "            \"Encoder and decoder must have equal number of layers!\"\n",
        "        assert self.enc_n_directions >= self.dec_n_directions, \\\n",
        "            \"If decoder is bidirectional, encoder must be bidirectional either!\"\n",
        "\n",
        "    def forward(self, input_batches, input_lengths, target_batches=None, target_lengths=None, teacher_forcing_ratio=0.5):\n",
        "        # input_batches = target_batches = [seq_len, batch]\n",
        "        batch_size = input_batches.size(1)\n",
        "\n",
        "        BOS_token = self.basic_dict[\"<bos>\"]\n",
        "        EOS_token = self.basic_dict[\"<eos>\"]\n",
        "        PAD_token = self.basic_dict[\"<pad>\"]\n",
        "\n",
        "        # 初始化\n",
        "        encoder_hidden = torch.zeros(self.enc_n_layers*self.enc_n_directions, batch_size, self.encoder.hid_dim, device=self.device)\n",
        "\n",
        "        # encoder_output = [seq_len, batch, hid_dim * n directions]\n",
        "        # encoder_hidden = [n_layers*n_directions, batch, hid_dim]\n",
        "        encoder_output, encoder_hidden = self.encoder(\n",
        "            input_batches, input_lengths, encoder_hidden)\n",
        "\n",
        "        # 初始化\n",
        "        decoder_input = torch.tensor([BOS_token] * batch_size, dtype=torch.long, device=self.device)\n",
        "        if self.enc_n_directions == self.dec_n_directions:\n",
        "            decoder_hidden = encoder_hidden\n",
        "        else:\n",
        "            L = encoder_hidden.size(0)\n",
        "            decoder_hidden = encoder_hidden[range(0, L, 2)] + encoder_hidden[range(1, L, 2)]\n",
        "\n",
        "        if self.predict:\n",
        "            # 預測階段使用\n",
        "            # 一次只輸入一句話\n",
        "            assert batch_size == 1, \"batch_size of predict phase must be 1!\"\n",
        "            output_tokens = []\n",
        "\n",
        "            while True:\n",
        "                decoder_output, decoder_hidden = self.decoder(\n",
        "                    decoder_input, decoder_hidden\n",
        "                )\n",
        "                # [1, 1]\n",
        "                topv, topi = decoder_output.topk(1)\n",
        "                decoder_input = topi.squeeze(1)  # 上一個預測作為下一個輸入\n",
        "                output_token = topi.squeeze().detach().item()\n",
        "                if output_token == EOS_token or len(output_tokens) == self.max_len:\n",
        "                    break\n",
        "                output_tokens.append(output_token)\n",
        "            return output_tokens\n",
        "\n",
        "        else:\n",
        "            # 訓練階段\n",
        "            max_target_length = max(target_lengths)\n",
        "            all_decoder_outputs = torch.zeros((max_target_length, batch_size, self.decoder.output_dim), device=self.device)\n",
        "\n",
        "            for t in range(max_target_length):\n",
        "                use_teacher_forcing = True if random.random() < teacher_forcing_ratio else False\n",
        "                if use_teacher_forcing:\n",
        "                    # decoder_output = [batch, output_dim]\n",
        "                    # decoder_hidden = [n_layers*n_directions, batch, hid_dim]\n",
        "                    decoder_output, decoder_hidden = self.decoder(\n",
        "                        decoder_input, decoder_hidden\n",
        "                    )\n",
        "                    all_decoder_outputs[t] = decoder_output\n",
        "                    decoder_input = target_batches[t]  # 下一個輸入來自訓練數據\n",
        "                else:\n",
        "                    decoder_output, decoder_hidden = self.decoder(\n",
        "                        decoder_input, decoder_hidden\n",
        "                    )\n",
        "                    # [batch, 1]\n",
        "                    topv, topi = decoder_output.topk(1)\n",
        "                    all_decoder_outputs[t] = decoder_output\n",
        "                    decoder_input = topi.squeeze(1)  # 下一輸入來自模型預測\n",
        "\n",
        "            loss_fn = nn.NLLLoss(ignore_index=PAD_token)\n",
        "            loss = loss_fn(\n",
        "                all_decoder_outputs.reshape(-1,self.decoder.output_dim ),  # [batch*seq_len, output_dim]\n",
        "                target_batches.reshape(-1)                                                 # [batch*seq_len]\n",
        "            )\n",
        "            return loss"
      ],
      "metadata": {
        "id": "Y9Xl25mbpytv"
      },
      "execution_count": 13,
      "outputs": []
    },
    {
      "cell_type": "markdown",
      "source": [
        "### **訓練和預測程式碼**"
      ],
      "metadata": {
        "id": "7qaFXPp6nV4y"
      }
    },
    {
      "cell_type": "code",
      "source": [
        "# 計算執行時間\n",
        "def epoch_time(start_time, end_time):\n",
        "    elapsed_time = end_time - start_time\n",
        "    elapsed_mins = int(elapsed_time / 60)\n",
        "    elapsed_secs = int(elapsed_time - (elapsed_mins * 60))\n",
        "    return elapsed_mins, elapsed_secs"
      ],
      "metadata": {
        "id": "CUI9YXFPp065"
      },
      "execution_count": 14,
      "outputs": []
    },
    {
      "cell_type": "code",
      "source": [
        "def train(\n",
        "    model,\n",
        "    data_loader,\n",
        "    optimizer,\n",
        "    clip=1,\n",
        "    teacher_forcing_ratio=0.5,\n",
        "    print_every=None  # None不列印\n",
        "    ):\n",
        "    model.predict = False\n",
        "    model.train()\n",
        "\n",
        "    if print_every == 0:\n",
        "        print_every = 1\n",
        "\n",
        "    print_loss_total = 0  # 每次列印都重置\n",
        "    start = time.time()\n",
        "    epoch_loss = 0\n",
        "    for i, batch in enumerate(data_loader):\n",
        "\n",
        "        # shape = [seq_len, batch]\n",
        "        input_batchs = batch[\"src\"]\n",
        "        target_batchs = batch[\"trg\"]\n",
        "        # list\n",
        "        input_lens = batch[\"src_len\"]\n",
        "        target_lens = batch[\"trg_len\"]\n",
        "\n",
        "        optimizer.zero_grad()\n",
        "\n",
        "        loss = model(input_batchs, input_lens, target_batchs, target_lens, teacher_forcing_ratio)\n",
        "        print_loss_total += loss.item()\n",
        "        epoch_loss += loss.item()\n",
        "        loss.backward()\n",
        "\n",
        "        # 梯度裁剪\n",
        "        torch.nn.utils.clip_grad_norm_(model.parameters(), clip)\n",
        "\n",
        "        optimizer.step()\n",
        "\n",
        "        if print_every and (i+1) % print_every == 0:\n",
        "            print_loss_avg = print_loss_total / print_every\n",
        "            print_loss_total = 0\n",
        "            print('\\tCurrent Loss: %.4f' % print_loss_avg)\n",
        "\n",
        "    return epoch_loss / len(data_loader)"
      ],
      "metadata": {
        "id": "NPpTblpZp3a4"
      },
      "execution_count": 15,
      "outputs": []
    },
    {
      "cell_type": "code",
      "source": [
        "def evaluate(\n",
        "    model,\n",
        "    data_loader,\n",
        "    print_every=None\n",
        "    ):\n",
        "    model.predict = False\n",
        "    model.eval()\n",
        "    if print_every == 0:\n",
        "        print_every = 1\n",
        "\n",
        "    print_loss_total = 0  # 每次打印都重置\n",
        "    start = time.time()\n",
        "    epoch_loss = 0\n",
        "    with torch.no_grad():\n",
        "        for i, batch in enumerate(data_loader):\n",
        "\n",
        "            # shape = [seq_len, batch]\n",
        "            input_batchs = batch[\"src\"]\n",
        "            target_batchs = batch[\"trg\"]\n",
        "            # list\n",
        "            input_lens = batch[\"src_len\"]\n",
        "            target_lens = batch[\"trg_len\"]\n",
        "\n",
        "            loss = model(input_batchs, input_lens, target_batchs, target_lens, teacher_forcing_ratio=0)\n",
        "            print_loss_total += loss.item()\n",
        "            epoch_loss += loss.item()\n",
        "\n",
        "            if print_every and (i+1) % print_every == 0:\n",
        "                print_loss_avg = print_loss_total / print_every\n",
        "                print_loss_total = 0\n",
        "                print('\\tCurrent Loss: %.4f' % print_loss_avg)\n",
        "\n",
        "    return epoch_loss / len(data_loader)"
      ],
      "metadata": {
        "id": "9D-2bu0Cp6Ob"
      },
      "execution_count": 16,
      "outputs": []
    },
    {
      "cell_type": "code",
      "source": [
        "def translate(\n",
        "    model,\n",
        "    sample,\n",
        "    idx2token=None\n",
        "    ):\n",
        "    model.predict = True\n",
        "    model.eval()\n",
        "\n",
        "    # shape = [seq_len, 1]\n",
        "    input_batch = sample[\"src\"]\n",
        "    # list\n",
        "    input_len = sample[\"src_len\"]\n",
        "\n",
        "    output_tokens = model(input_batch, input_len)\n",
        "    output_tokens = [idx2token[t] for t in output_tokens]\n",
        "\n",
        "    return \"\".join(output_tokens)"
      ],
      "metadata": {
        "id": "j_GtAADep8HC"
      },
      "execution_count": 17,
      "outputs": []
    },
    {
      "cell_type": "code",
      "source": [
        "INPUT_DIM = len(en2id)\n",
        "OUTPUT_DIM = len(ch2id)\n",
        "\n",
        "# 超參數\n",
        "BATCH_SIZE = 32\n",
        "ENC_EMB_DIM = 256\n",
        "DEC_EMB_DIM = 256\n",
        "HID_DIM = 512\n",
        "N_LAYERS = 2\n",
        "ENC_DROPOUT = 0.5\n",
        "DEC_DROPOUT = 0.5\n",
        "LEARNING_RATE = 1e-4\n",
        "N_EPOCHS = 100\n",
        "CLIP = 1\n",
        "\n",
        "bidirectional = True\n",
        "enc = Encoder(INPUT_DIM, ENC_EMB_DIM, HID_DIM, N_LAYERS, ENC_DROPOUT, bidirectional)\n",
        "dec = Decoder(OUTPUT_DIM, DEC_EMB_DIM, HID_DIM, N_LAYERS, DEC_DROPOUT, bidirectional)\n",
        "model = Seq2Seq(enc, dec, device, basic_dict=basic_dict).to(device)\n",
        "\n",
        "## encoder和encoder設置相同的學習策略\n",
        "optimizer = optim.Adam(model.parameters(), lr=LEARNING_RATE)\n",
        "# ## encoder和encoder設置不同的學習策略\n",
        "# optimizer_grouped_parameters = [\n",
        "#         {'params': [p for n, p in model.named_parameters() if 'encoder' in n], 'lr': LEARNING_RATE},\n",
        "#         {'params': [p for n, p in model.named_parameters() if 'decoder' in n], 'lr': LEARNING_RATE*2}\n",
        "# ]\n",
        "# optimizer = optim.Adam(optimizer_grouped_parameters)"
      ],
      "metadata": {
        "id": "S5ul1BW3p-WM"
      },
      "execution_count": 18,
      "outputs": []
    },
    {
      "cell_type": "code",
      "source": [
        "# 數據集\n",
        "train_set = TranslationDataset(en_num_data, ch_num_data)\n",
        "train_loader = DataLoader(train_set, batch_size=BATCH_SIZE, collate_fn=padding_batch)"
      ],
      "metadata": {
        "id": "Fk5wnkOqqBLW"
      },
      "execution_count": 19,
      "outputs": []
    },
    {
      "cell_type": "code",
      "source": [
        "best_valid_loss = float('inf')\n",
        "\n",
        "for epoch in range(N_EPOCHS):\n",
        "\n",
        "    start_time = time.time()\n",
        "    train_loss = train(model, train_loader, optimizer, CLIP)\n",
        "    valid_loss = evaluate(model, train_loader)\n",
        "    end_time = time.time()\n",
        "\n",
        "    if valid_loss < best_valid_loss:\n",
        "        best_valid_loss = valid_loss\n",
        "        torch.save(model.state_dict(), 'en2ch-model.pt')\n",
        "\n",
        "    if epoch %2 == 0:\n",
        "        epoch_mins, epoch_secs = epoch_time(start_time, end_time)\n",
        "        print(f'Epoch: {epoch+1:02} | Time: {epoch_mins}m {epoch_secs}s')\n",
        "        print(f'\\tTrain Loss: {train_loss:.3f} | Val. Loss: {valid_loss:.3f}')"
      ],
      "metadata": {
        "colab": {
          "base_uri": "https://localhost:8080/"
        },
        "id": "dQPBNx-IqDFg",
        "outputId": "30fed802-e3da-4ac2-b08b-384b1633ab99"
      },
      "execution_count": 21,
      "outputs": [
        {
          "output_type": "stream",
          "name": "stdout",
          "text": [
            "Epoch: 01 | Time: 1m 4s\n",
            "\tTrain Loss: 5.184 | Val. Loss: 5.662\n",
            "Epoch: 03 | Time: 1m 4s\n",
            "\tTrain Loss: 4.229 | Val. Loss: 4.977\n",
            "Epoch: 05 | Time: 1m 4s\n",
            "\tTrain Loss: 3.654 | Val. Loss: 4.385\n",
            "Epoch: 07 | Time: 1m 4s\n",
            "\tTrain Loss: 3.210 | Val. Loss: 3.903\n",
            "Epoch: 09 | Time: 1m 4s\n",
            "\tTrain Loss: 2.868 | Val. Loss: 3.529\n",
            "Epoch: 11 | Time: 1m 4s\n",
            "\tTrain Loss: 2.576 | Val. Loss: 3.219\n",
            "Epoch: 13 | Time: 1m 4s\n",
            "\tTrain Loss: 2.346 | Val. Loss: 2.965\n",
            "Epoch: 15 | Time: 1m 4s\n",
            "\tTrain Loss: 2.143 | Val. Loss: 2.775\n",
            "Epoch: 17 | Time: 1m 4s\n",
            "\tTrain Loss: 1.976 | Val. Loss: 2.544\n",
            "Epoch: 19 | Time: 1m 3s\n",
            "\tTrain Loss: 1.802 | Val. Loss: 2.324\n",
            "Epoch: 21 | Time: 1m 3s\n",
            "\tTrain Loss: 1.645 | Val. Loss: 2.168\n",
            "Epoch: 23 | Time: 1m 3s\n",
            "\tTrain Loss: 1.524 | Val. Loss: 2.037\n",
            "Epoch: 25 | Time: 1m 3s\n",
            "\tTrain Loss: 1.396 | Val. Loss: 1.907\n",
            "Epoch: 27 | Time: 1m 3s\n",
            "\tTrain Loss: 1.292 | Val. Loss: 1.727\n",
            "Epoch: 29 | Time: 1m 3s\n",
            "\tTrain Loss: 1.190 | Val. Loss: 1.573\n",
            "Epoch: 31 | Time: 1m 3s\n",
            "\tTrain Loss: 1.104 | Val. Loss: 1.446\n",
            "Epoch: 33 | Time: 1m 3s\n",
            "\tTrain Loss: 1.013 | Val. Loss: 1.335\n",
            "Epoch: 35 | Time: 1m 3s\n",
            "\tTrain Loss: 0.933 | Val. Loss: 1.332\n",
            "Epoch: 37 | Time: 1m 4s\n",
            "\tTrain Loss: 0.862 | Val. Loss: 1.227\n",
            "Epoch: 39 | Time: 1m 3s\n",
            "\tTrain Loss: 0.792 | Val. Loss: 1.198\n",
            "Epoch: 41 | Time: 1m 4s\n",
            "\tTrain Loss: 0.740 | Val. Loss: 1.096\n",
            "Epoch: 43 | Time: 1m 4s\n",
            "\tTrain Loss: 0.682 | Val. Loss: 1.041\n",
            "Epoch: 45 | Time: 1m 4s\n",
            "\tTrain Loss: 0.635 | Val. Loss: 0.993\n",
            "Epoch: 47 | Time: 1m 4s\n",
            "\tTrain Loss: 0.610 | Val. Loss: 0.814\n",
            "Epoch: 49 | Time: 1m 4s\n",
            "\tTrain Loss: 0.557 | Val. Loss: 0.755\n",
            "Epoch: 51 | Time: 1m 3s\n",
            "\tTrain Loss: 0.526 | Val. Loss: 0.768\n",
            "Epoch: 53 | Time: 1m 4s\n",
            "\tTrain Loss: 0.486 | Val. Loss: 0.849\n",
            "Epoch: 55 | Time: 1m 3s\n",
            "\tTrain Loss: 0.468 | Val. Loss: 0.820\n",
            "Epoch: 57 | Time: 1m 4s\n",
            "\tTrain Loss: 0.428 | Val. Loss: 0.688\n",
            "Epoch: 59 | Time: 1m 3s\n",
            "\tTrain Loss: 0.406 | Val. Loss: 0.598\n",
            "Epoch: 61 | Time: 1m 3s\n",
            "\tTrain Loss: 0.377 | Val. Loss: 0.479\n",
            "Epoch: 63 | Time: 1m 3s\n",
            "\tTrain Loss: 0.354 | Val. Loss: 0.450\n",
            "Epoch: 65 | Time: 1m 3s\n",
            "\tTrain Loss: 0.341 | Val. Loss: 0.483\n",
            "Epoch: 67 | Time: 1m 3s\n",
            "\tTrain Loss: 0.323 | Val. Loss: 0.487\n",
            "Epoch: 69 | Time: 1m 4s\n",
            "\tTrain Loss: 0.307 | Val. Loss: 0.639\n",
            "Epoch: 71 | Time: 1m 4s\n",
            "\tTrain Loss: 0.291 | Val. Loss: 0.653\n",
            "Epoch: 73 | Time: 1m 4s\n",
            "\tTrain Loss: 0.278 | Val. Loss: 0.451\n",
            "Epoch: 75 | Time: 1m 4s\n",
            "\tTrain Loss: 0.263 | Val. Loss: 0.478\n",
            "Epoch: 77 | Time: 1m 4s\n",
            "\tTrain Loss: 0.249 | Val. Loss: 0.616\n",
            "Epoch: 79 | Time: 1m 3s\n",
            "\tTrain Loss: 0.242 | Val. Loss: 0.748\n",
            "Epoch: 81 | Time: 1m 3s\n",
            "\tTrain Loss: 0.239 | Val. Loss: 0.550\n",
            "Epoch: 83 | Time: 1m 3s\n",
            "\tTrain Loss: 0.220 | Val. Loss: 0.437\n",
            "Epoch: 85 | Time: 1m 4s\n",
            "\tTrain Loss: 0.211 | Val. Loss: 0.333\n",
            "Epoch: 87 | Time: 1m 3s\n",
            "\tTrain Loss: 0.210 | Val. Loss: 0.355\n",
            "Epoch: 89 | Time: 1m 3s\n",
            "\tTrain Loss: 0.198 | Val. Loss: 0.429\n",
            "Epoch: 91 | Time: 1m 4s\n",
            "\tTrain Loss: 0.193 | Val. Loss: 0.511\n",
            "Epoch: 93 | Time: 1m 3s\n",
            "\tTrain Loss: 0.187 | Val. Loss: 0.371\n",
            "Epoch: 95 | Time: 1m 4s\n",
            "\tTrain Loss: 0.185 | Val. Loss: 0.217\n",
            "Epoch: 97 | Time: 1m 4s\n",
            "\tTrain Loss: 0.177 | Val. Loss: 0.157\n",
            "Epoch: 99 | Time: 1m 4s\n",
            "\tTrain Loss: 0.170 | Val. Loss: 0.132\n"
          ]
        }
      ]
    },
    {
      "cell_type": "code",
      "source": [
        "print(\"best valid loss：\", best_valid_loss)\n",
        "# 載入最優權重\n",
        "model.load_state_dict(torch.load('/content/en2ch-model.pt'))"
      ],
      "metadata": {
        "colab": {
          "base_uri": "https://localhost:8080/"
        },
        "id": "7ey07H7DqEtS",
        "outputId": "08fba12b-4fa1-4545-9f97-480abf84132c"
      },
      "execution_count": 22,
      "outputs": [
        {
          "output_type": "stream",
          "name": "stdout",
          "text": [
            "best valid loss： 0.1250642401937906\n"
          ]
        },
        {
          "output_type": "execute_result",
          "data": {
            "text/plain": [
              "<All keys matched successfully>"
            ]
          },
          "metadata": {},
          "execution_count": 22
        }
      ]
    },
    {
      "cell_type": "code",
      "source": [
        "random.seed(seed)\n",
        "for i in random.sample(range(len(en_num_data)), 10):  # 隨機看10個\n",
        "    en_tokens = list(filter(lambda x: x!=0, en_num_data[i]))  # 過濾零\n",
        "    ch_tokens = list(filter(lambda x: x!=3 and x!=0, ch_num_data[i]))  # 和機器翻譯作對照\n",
        "    sentence = [id2en[t] for t in en_tokens]\n",
        "    print(\"【原文】\")\n",
        "    print(\"\".join(sentence))\n",
        "    translation = [id2ch[t] for t in ch_tokens]\n",
        "    print(\"【原文】\")\n",
        "    print(\"\".join(translation))\n",
        "    test_sample = {}\n",
        "    test_sample[\"src\"] = torch.tensor(en_tokens, dtype=torch.long, device=device).reshape(-1, 1)\n",
        "    test_sample[\"src_len\"] = [len(en_tokens)]\n",
        "    print(\"【機器翻譯】\")\n",
        "    print(translate(model, test_sample, id2ch), end=\"\\n\\n\")"
      ],
      "metadata": {
        "colab": {
          "base_uri": "https://localhost:8080/"
        },
        "id": "GF0DE09EqPv5",
        "outputId": "00c4858e-9f98-45ed-bd3e-42bf4e3673c9"
      },
      "execution_count": 23,
      "outputs": [
        {
          "output_type": "stream",
          "name": "stdout",
          "text": [
            "【原文】\n",
            "My camera is different from yours.<eos>\n",
            "【原文】\n",
            "我的相機和你的不一樣\n",
            "【機器翻譯】\n",
            "我的相機和你的不一樣\n",
            "\n",
            "【原文】\n",
            "Monkeys can learn a lot of tricks.<eos>\n",
            "【原文】\n",
            "猴子可以學到很多技巧\n",
            "【機器翻譯】\n",
            "猴子可以學到很多技巧\n",
            "\n",
            "【原文】\n",
            "We want a new carpet.<eos>\n",
            "【原文】\n",
            "我們想要一塊新地毯\n",
            "【機器翻譯】\n",
            "我們想要一塊新地毯\n",
            "\n",
            "【原文】\n",
            "Do you mind if I turn off the light<eos>\n",
            "【原文】\n",
            "你介意我把燈關掉嗎\n",
            "【機器翻譯】\n",
            "你介意我把燈關掉嗎\n",
            "\n",
            "【原文】\n",
            "The family eats breakfast on the balcony.<eos>\n",
            "【原文】\n",
            "一家人在陽台上吃早餐\n",
            "【機器翻譯】\n",
            "一家人在陽台上吃早餐\n",
            "\n",
            "【原文】\n",
            "My mother likes tea very much.<eos>\n",
            "【原文】\n",
            "我媽媽非常喜歡喝茶\n",
            "【機器翻譯】\n",
            "我媽媽非常喜歡喝茶\n",
            "\n",
            "【原文】\n",
            "He is lacking in common sense.<eos>\n",
            "【原文】\n",
            "他缺乏常識\n",
            "【機器翻譯】\n",
            "他缺乏常識\n",
            "\n",
            "【原文】\n",
            "We immediately became friends.<eos>\n",
            "【原文】\n",
            "我們立即成為朋友\n",
            "【機器翻譯】\n",
            "我們立即成為朋友\n",
            "\n",
            "【原文】\n",
            "And what if someone sees us<eos>\n",
            "【原文】\n",
            "如果有人看到我們怎麼辦\n",
            "【機器翻譯】\n",
            "如果有人看到我們怎麼辦\n",
            "\n",
            "【原文】\n",
            "I've always kept my promises.<eos>\n",
            "【原文】\n",
            "我一直遵守諾言\n",
            "【機器翻譯】\n",
            "我一直遵守諾言\n",
            "\n"
          ]
        }
      ]
    },
    {
      "cell_type": "code",
      "source": [
        "random.seed(seed*10)\n",
        "for i in random.sample(range(len(en_num_data)), 10):  # 隨機看10個\n",
        "    en_tokens = list(filter(lambda x: x!=0, en_num_data[i]))  # 過瀘零\n",
        "    ch_tokens = list(filter(lambda x: x!=3 and x!=0, ch_num_data[i]))  # 和機器翻譯作對照\n",
        "    sentence = [id2en[t] for t in en_tokens]\n",
        "    print(\"【原文】\")\n",
        "    print(\"\".join(sentence))\n",
        "    translation = [id2ch[t] for t in ch_tokens]\n",
        "    print(\"【原文】\")\n",
        "    print(\"\".join(translation))\n",
        "    test_sample = {}\n",
        "    test_sample[\"src\"] = torch.tensor(en_tokens, dtype=torch.long, device=device).reshape(-1, 1)\n",
        "    test_sample[\"src_len\"] = [len(en_tokens)]\n",
        "    print(\"【機器翻譯】\")\n",
        "    print(translate(model, test_sample, id2ch), end=\"\\n\\n\")"
      ],
      "metadata": {
        "colab": {
          "base_uri": "https://localhost:8080/"
        },
        "id": "edm3anqeqaSG",
        "outputId": "e6846a19-31e4-4341-99d5-b67d68d4eef0"
      },
      "execution_count": 24,
      "outputs": [
        {
          "output_type": "stream",
          "name": "stdout",
          "text": [
            "【原文】\n",
            "Your CV has really impressed me.<eos>\n",
            "【原文】\n",
            "你的履歷給我留下了深刻的印象\n",
            "【機器翻譯】\n",
            "你的履歷給我留下了深刻的印象\n",
            "\n",
            "【原文】\n",
            "I'm exhausted.<eos>\n",
            "【原文】\n",
            "我很疲勞\n",
            "【機器翻譯】\n",
            "我很疲\n",
            "\n",
            "【原文】\n",
            "I wish I could figure out how to disable comments on my blog.<eos>\n",
            "【原文】\n",
            "我希望我能弄清楚如何停用我部落格上的評論\n",
            "【機器翻譯】\n",
            "我希望我能弄清楚如何停止我部落格的評論\n",
            "\n",
            "【原文】\n",
            "You're a good driver.<eos>\n",
            "【原文】\n",
            "你是個好司機\n",
            "【機器翻譯】\n",
            "你是個好司機\n",
            "\n",
            "【原文】\n",
            "I play volleyball a lot.<eos>\n",
            "【原文】\n",
            "我常打排球\n",
            "【機器翻譯】\n",
            "我常打排球\n",
            "\n",
            "【原文】\n",
            "Tom is old enough to go to school.<eos>\n",
            "【原文】\n",
            "湯姆已經到了可以上學的年紀了\n",
            "【機器翻譯】\n",
            "湯姆已經到了可以上學的年紀了\n",
            "\n",
            "【原文】\n",
            "Are you sure<eos>\n",
            "【原文】\n",
            "你確定\n",
            "【機器翻譯】\n",
            "你確定嗎\n",
            "\n",
            "【原文】\n",
            "I might have forgotten the key.<eos>\n",
            "【原文】\n",
            "我可能忘了鑰匙\n",
            "【機器翻譯】\n",
            "我可能忘了鑰匙\n",
            "\n",
            "【原文】\n",
            "I'd be crazy to do that.<eos>\n",
            "【原文】\n",
            "我會瘋掉那樣做的\n",
            "【機器翻譯】\n",
            "我會瘋掉那樣做的\n",
            "\n",
            "【原文】\n",
            "The bathtub was filled with hot water and flower petals.<eos>\n",
            "【原文】\n",
            "浴缸裡充滿了熱水和花瓣\n",
            "【機器翻譯】\n",
            "浴缸裡充滿了熱水和花瓣\n",
            "\n"
          ]
        }
      ]
    },
    {
      "cell_type": "code",
      "source": [
        "random.seed(seed*20)\n",
        "for i in random.sample(range(len(en_num_data)), 10):  # 隨機看10個\n",
        "    en_tokens = list(filter(lambda x: x!=0, en_num_data[i]))  # 過瀘零\n",
        "    ch_tokens = list(filter(lambda x: x!=3 and x!=0, ch_num_data[i]))  # 和機器翻譯作對照\n",
        "    sentence = [id2en[t] for t in en_tokens]\n",
        "    print(\"【原文】\")\n",
        "    print(\"\".join(sentence))\n",
        "    translation = [id2ch[t] for t in ch_tokens]\n",
        "    print(\"【原文】\")\n",
        "    print(\"\".join(translation))\n",
        "    test_sample = {}\n",
        "    test_sample[\"src\"] = torch.tensor(en_tokens, dtype=torch.long, device=device).reshape(-1, 1)\n",
        "    test_sample[\"src_len\"] = [len(en_tokens)]\n",
        "    print(\"【機器翻譯】\")\n",
        "    print(translate(model, test_sample, id2ch), end=\"\\n\\n\")"
      ],
      "metadata": {
        "colab": {
          "base_uri": "https://localhost:8080/"
        },
        "id": "x1O4eT6aaWUz",
        "outputId": "cf742790-83db-49b2-abc3-bd1dd793419d"
      },
      "execution_count": 25,
      "outputs": [
        {
          "output_type": "stream",
          "name": "stdout",
          "text": [
            "【原文】\n",
            "I'm lucky.<eos>\n",
            "【原文】\n",
            "我很幸運\n",
            "【機器翻譯】\n",
            "我很幸運\n",
            "\n",
            "【原文】\n",
            "You're just being ridiculous.<eos>\n",
            "【原文】\n",
            "你簡直是太可笑了\n",
            "【機器翻譯】\n",
            "你簡直是太可笑了\n",
            "\n",
            "【原文】\n",
            "You can tell us.<eos>\n",
            "【原文】\n",
            "你可以告訴我們\n",
            "【機器翻譯】\n",
            "你可以告訴我們\n",
            "\n",
            "【原文】\n",
            "A truck ran over our dog.<eos>\n",
            "【原文】\n",
            "一輛卡車輾過我們的狗\n",
            "【機器翻譯】\n",
            "一輛卡車輾過我們的狗\n",
            "\n",
            "【原文】\n",
            "I asked him to go there tomorrow.<eos>\n",
            "【原文】\n",
            "我請他明天去那裡\n",
            "【機器翻譯】\n",
            "我請他明天去那裡\n",
            "\n",
            "【原文】\n",
            "Let's eat sushi.<eos>\n",
            "【原文】\n",
            "我們吃壽司吧\n",
            "【機器翻譯】\n",
            "我們吃壽司吧\n",
            "\n",
            "【原文】\n",
            "In case the shipment is delayed, we have special delay insurance.<eos>\n",
            "【原文】\n",
            "如果發貨延誤，我們有特殊的延誤保險\n",
            "【機器翻譯】\n",
            "如果貨貨貨誤，我們有特殊的延誤保險\n",
            "\n",
            "【原文】\n",
            "His second son married and settled down.<eos>\n",
            "【原文】\n",
            "他的二兒子結婚並定居下來\n",
            "【機器翻譯】\n",
            "他的二兒子結婚並定居下來\n",
            "\n",
            "【原文】\n",
            "By the way, what's your address<eos>\n",
            "【原文】\n",
            "順便問一下，你的地址是\n",
            "【機器翻譯】\n",
            "順便問一下，你的地址是\n",
            "\n",
            "【原文】\n",
            "The board unanimously decided to appoint her as CEO.<eos>\n",
            "【原文】\n",
            "董事會一致決定任命她為執行長\n",
            "【機器翻譯】\n",
            "董事會一致決定任命為執執長長\n",
            "\n"
          ]
        }
      ]
    }
  ]
}